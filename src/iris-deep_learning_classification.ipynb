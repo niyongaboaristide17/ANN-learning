{
 "cells": [
  {
   "cell_type": "markdown",
   "source": [
    "# Deep Learning Example - Iris\n",
    "This examples demonstrates the core deep learning model building concepts using the Keras library. The Iris flower dataset is used to build the model and perform classification tasks"
   ],
   "metadata": {
    "collapsed": false
   },
   "id": "62e917d79ee312c0"
  },
  {
   "cell_type": "markdown",
   "source": [
    "# 1.1 Setup"
   ],
   "metadata": {
    "collapsed": false
   },
   "id": "2553ef25ab8bdcda"
  },
  {
   "cell_type": "code",
   "outputs": [
    {
     "name": "stdout",
     "output_type": "stream",
     "text": [
      "Requirement already satisfied: pandas in d:\\learning\\ai\\ann-learning\\venv\\lib\\site-packages (2.2.1)\n",
      "Requirement already satisfied: numpy<2,>=1.23.2 in d:\\learning\\ai\\ann-learning\\venv\\lib\\site-packages (from pandas) (1.26.4)\n",
      "Requirement already satisfied: python-dateutil>=2.8.2 in d:\\learning\\ai\\ann-learning\\venv\\lib\\site-packages (from pandas) (2.8.2)\n",
      "Requirement already satisfied: pytz>=2020.1 in d:\\learning\\ai\\ann-learning\\venv\\lib\\site-packages (from pandas) (2024.1)\n",
      "Requirement already satisfied: tzdata>=2022.7 in d:\\learning\\ai\\ann-learning\\venv\\lib\\site-packages (from pandas) (2024.1)\n",
      "Requirement already satisfied: six>=1.5 in d:\\learning\\ai\\ann-learning\\venv\\lib\\site-packages (from python-dateutil>=2.8.2->pandas) (1.16.0)\n"
     ]
    },
    {
     "name": "stderr",
     "output_type": "stream",
     "text": [
      "\n",
      "[notice] A new release of pip is available: 23.2.1 -> 24.0\n",
      "[notice] To update, run: python.exe -m pip install --upgrade pip\n"
     ]
    },
    {
     "name": "stdout",
     "output_type": "stream",
     "text": [
      "Requirement already satisfied: tensorflow in d:\\learning\\ai\\ann-learning\\venv\\lib\\site-packages (2.15.0)\n",
      "Requirement already satisfied: tensorflow-intel==2.15.0 in d:\\learning\\ai\\ann-learning\\venv\\lib\\site-packages (from tensorflow) (2.15.0)\n",
      "Requirement already satisfied: absl-py>=1.0.0 in d:\\learning\\ai\\ann-learning\\venv\\lib\\site-packages (from tensorflow-intel==2.15.0->tensorflow) (2.1.0)\n",
      "Requirement already satisfied: astunparse>=1.6.0 in d:\\learning\\ai\\ann-learning\\venv\\lib\\site-packages (from tensorflow-intel==2.15.0->tensorflow) (1.6.3)\n",
      "Requirement already satisfied: flatbuffers>=23.5.26 in d:\\learning\\ai\\ann-learning\\venv\\lib\\site-packages (from tensorflow-intel==2.15.0->tensorflow) (23.5.26)\n",
      "Requirement already satisfied: gast!=0.5.0,!=0.5.1,!=0.5.2,>=0.2.1 in d:\\learning\\ai\\ann-learning\\venv\\lib\\site-packages (from tensorflow-intel==2.15.0->tensorflow) (0.5.4)\n",
      "Requirement already satisfied: google-pasta>=0.1.1 in d:\\learning\\ai\\ann-learning\\venv\\lib\\site-packages (from tensorflow-intel==2.15.0->tensorflow) (0.2.0)\n",
      "Requirement already satisfied: h5py>=2.9.0 in d:\\learning\\ai\\ann-learning\\venv\\lib\\site-packages (from tensorflow-intel==2.15.0->tensorflow) (3.10.0)\n",
      "Requirement already satisfied: libclang>=13.0.0 in d:\\learning\\ai\\ann-learning\\venv\\lib\\site-packages (from tensorflow-intel==2.15.0->tensorflow) (16.0.6)\n",
      "Requirement already satisfied: ml-dtypes~=0.2.0 in d:\\learning\\ai\\ann-learning\\venv\\lib\\site-packages (from tensorflow-intel==2.15.0->tensorflow) (0.2.0)\n",
      "Requirement already satisfied: numpy<2.0.0,>=1.23.5 in d:\\learning\\ai\\ann-learning\\venv\\lib\\site-packages (from tensorflow-intel==2.15.0->tensorflow) (1.26.4)\n",
      "Requirement already satisfied: opt-einsum>=2.3.2 in d:\\learning\\ai\\ann-learning\\venv\\lib\\site-packages (from tensorflow-intel==2.15.0->tensorflow) (3.3.0)\n",
      "Requirement already satisfied: packaging in d:\\learning\\ai\\ann-learning\\venv\\lib\\site-packages (from tensorflow-intel==2.15.0->tensorflow) (23.2)\n",
      "Requirement already satisfied: protobuf!=4.21.0,!=4.21.1,!=4.21.2,!=4.21.3,!=4.21.4,!=4.21.5,<5.0.0dev,>=3.20.3 in d:\\learning\\ai\\ann-learning\\venv\\lib\\site-packages (from tensorflow-intel==2.15.0->tensorflow) (4.25.3)\n",
      "Requirement already satisfied: setuptools in d:\\learning\\ai\\ann-learning\\venv\\lib\\site-packages (from tensorflow-intel==2.15.0->tensorflow) (68.2.0)\n",
      "Requirement already satisfied: six>=1.12.0 in d:\\learning\\ai\\ann-learning\\venv\\lib\\site-packages (from tensorflow-intel==2.15.0->tensorflow) (1.16.0)\n",
      "Requirement already satisfied: termcolor>=1.1.0 in d:\\learning\\ai\\ann-learning\\venv\\lib\\site-packages (from tensorflow-intel==2.15.0->tensorflow) (2.4.0)\n",
      "Requirement already satisfied: typing-extensions>=3.6.6 in d:\\learning\\ai\\ann-learning\\venv\\lib\\site-packages (from tensorflow-intel==2.15.0->tensorflow) (4.10.0)\n",
      "Requirement already satisfied: wrapt<1.15,>=1.11.0 in d:\\learning\\ai\\ann-learning\\venv\\lib\\site-packages (from tensorflow-intel==2.15.0->tensorflow) (1.14.1)\n",
      "Requirement already satisfied: tensorflow-io-gcs-filesystem>=0.23.1 in d:\\learning\\ai\\ann-learning\\venv\\lib\\site-packages (from tensorflow-intel==2.15.0->tensorflow) (0.31.0)\n",
      "Requirement already satisfied: grpcio<2.0,>=1.24.3 in d:\\learning\\ai\\ann-learning\\venv\\lib\\site-packages (from tensorflow-intel==2.15.0->tensorflow) (1.62.0)\n",
      "Requirement already satisfied: tensorboard<2.16,>=2.15 in d:\\learning\\ai\\ann-learning\\venv\\lib\\site-packages (from tensorflow-intel==2.15.0->tensorflow) (2.15.2)\n",
      "Requirement already satisfied: tensorflow-estimator<2.16,>=2.15.0 in d:\\learning\\ai\\ann-learning\\venv\\lib\\site-packages (from tensorflow-intel==2.15.0->tensorflow) (2.15.0)\n",
      "Requirement already satisfied: keras<2.16,>=2.15.0 in d:\\learning\\ai\\ann-learning\\venv\\lib\\site-packages (from tensorflow-intel==2.15.0->tensorflow) (2.15.0)\n",
      "Requirement already satisfied: wheel<1.0,>=0.23.0 in d:\\learning\\ai\\ann-learning\\venv\\lib\\site-packages (from astunparse>=1.6.0->tensorflow-intel==2.15.0->tensorflow) (0.41.2)\n",
      "Requirement already satisfied: google-auth<3,>=1.6.3 in d:\\learning\\ai\\ann-learning\\venv\\lib\\site-packages (from tensorboard<2.16,>=2.15->tensorflow-intel==2.15.0->tensorflow) (2.28.1)\n",
      "Requirement already satisfied: google-auth-oauthlib<2,>=0.5 in d:\\learning\\ai\\ann-learning\\venv\\lib\\site-packages (from tensorboard<2.16,>=2.15->tensorflow-intel==2.15.0->tensorflow) (1.2.0)\n",
      "Requirement already satisfied: markdown>=2.6.8 in d:\\learning\\ai\\ann-learning\\venv\\lib\\site-packages (from tensorboard<2.16,>=2.15->tensorflow-intel==2.15.0->tensorflow) (3.5.2)\n",
      "Requirement already satisfied: requests<3,>=2.21.0 in d:\\learning\\ai\\ann-learning\\venv\\lib\\site-packages (from tensorboard<2.16,>=2.15->tensorflow-intel==2.15.0->tensorflow) (2.31.0)\n",
      "Requirement already satisfied: tensorboard-data-server<0.8.0,>=0.7.0 in d:\\learning\\ai\\ann-learning\\venv\\lib\\site-packages (from tensorboard<2.16,>=2.15->tensorflow-intel==2.15.0->tensorflow) (0.7.2)\n",
      "Requirement already satisfied: werkzeug>=1.0.1 in d:\\learning\\ai\\ann-learning\\venv\\lib\\site-packages (from tensorboard<2.16,>=2.15->tensorflow-intel==2.15.0->tensorflow) (3.0.1)\n",
      "Requirement already satisfied: cachetools<6.0,>=2.0.0 in d:\\learning\\ai\\ann-learning\\venv\\lib\\site-packages (from google-auth<3,>=1.6.3->tensorboard<2.16,>=2.15->tensorflow-intel==2.15.0->tensorflow) (5.3.3)\n",
      "Requirement already satisfied: pyasn1-modules>=0.2.1 in d:\\learning\\ai\\ann-learning\\venv\\lib\\site-packages (from google-auth<3,>=1.6.3->tensorboard<2.16,>=2.15->tensorflow-intel==2.15.0->tensorflow) (0.3.0)\n",
      "Requirement already satisfied: rsa<5,>=3.1.4 in d:\\learning\\ai\\ann-learning\\venv\\lib\\site-packages (from google-auth<3,>=1.6.3->tensorboard<2.16,>=2.15->tensorflow-intel==2.15.0->tensorflow) (4.9)\n",
      "Requirement already satisfied: requests-oauthlib>=0.7.0 in d:\\learning\\ai\\ann-learning\\venv\\lib\\site-packages (from google-auth-oauthlib<2,>=0.5->tensorboard<2.16,>=2.15->tensorflow-intel==2.15.0->tensorflow) (1.3.1)\n",
      "Requirement already satisfied: charset-normalizer<4,>=2 in d:\\learning\\ai\\ann-learning\\venv\\lib\\site-packages (from requests<3,>=2.21.0->tensorboard<2.16,>=2.15->tensorflow-intel==2.15.0->tensorflow) (3.3.2)\n",
      "Requirement already satisfied: idna<4,>=2.5 in d:\\learning\\ai\\ann-learning\\venv\\lib\\site-packages (from requests<3,>=2.21.0->tensorboard<2.16,>=2.15->tensorflow-intel==2.15.0->tensorflow) (3.6)\n",
      "Requirement already satisfied: urllib3<3,>=1.21.1 in d:\\learning\\ai\\ann-learning\\venv\\lib\\site-packages (from requests<3,>=2.21.0->tensorboard<2.16,>=2.15->tensorflow-intel==2.15.0->tensorflow) (2.2.1)\n",
      "Requirement already satisfied: certifi>=2017.4.17 in d:\\learning\\ai\\ann-learning\\venv\\lib\\site-packages (from requests<3,>=2.21.0->tensorboard<2.16,>=2.15->tensorflow-intel==2.15.0->tensorflow) (2024.2.2)\n",
      "Requirement already satisfied: MarkupSafe>=2.1.1 in d:\\learning\\ai\\ann-learning\\venv\\lib\\site-packages (from werkzeug>=1.0.1->tensorboard<2.16,>=2.15->tensorflow-intel==2.15.0->tensorflow) (2.1.5)\n",
      "Requirement already satisfied: pyasn1<0.6.0,>=0.4.6 in d:\\learning\\ai\\ann-learning\\venv\\lib\\site-packages (from pyasn1-modules>=0.2.1->google-auth<3,>=1.6.3->tensorboard<2.16,>=2.15->tensorflow-intel==2.15.0->tensorflow) (0.5.1)\n",
      "Requirement already satisfied: oauthlib>=3.0.0 in d:\\learning\\ai\\ann-learning\\venv\\lib\\site-packages (from requests-oauthlib>=0.7.0->google-auth-oauthlib<2,>=0.5->tensorboard<2.16,>=2.15->tensorflow-intel==2.15.0->tensorflow) (3.2.2)\n"
     ]
    },
    {
     "name": "stderr",
     "output_type": "stream",
     "text": [
      "\n",
      "[notice] A new release of pip is available: 23.2.1 -> 24.0\n",
      "[notice] To update, run: python.exe -m pip install --upgrade pip\n"
     ]
    },
    {
     "name": "stdout",
     "output_type": "stream",
     "text": [
      "Collecting sklearn\n",
      "  Using cached sklearn-0.0.post12.tar.gz (2.6 kB)\n",
      "  Preparing metadata (setup.py): started\n",
      "  Preparing metadata (setup.py): finished with status 'error'\n"
     ]
    },
    {
     "name": "stderr",
     "output_type": "stream",
     "text": [
      "  error: subprocess-exited-with-error\n",
      "  \n",
      "  python setup.py egg_info did not run successfully.\n",
      "  exit code: 1\n",
      "  \n",
      "  [15 lines of output]\n",
      "  The 'sklearn' PyPI package is deprecated, use 'scikit-learn'\n",
      "  rather than 'sklearn' for pip commands.\n",
      "  \n",
      "  Here is how to fix this error in the main use cases:\n",
      "  - use 'pip install scikit-learn' rather than 'pip install sklearn'\n",
      "  - replace 'sklearn' by 'scikit-learn' in your pip requirements files\n",
      "    (requirements.txt, setup.py, setup.cfg, Pipfile, etc ...)\n",
      "  - if the 'sklearn' package is used by one of your dependencies,\n",
      "    it would be great if you take some time to track which package uses\n",
      "    'sklearn' instead of 'scikit-learn' and report it to their issue tracker\n",
      "  - as a last resort, set the environment variable\n",
      "    SKLEARN_ALLOW_DEPRECATED_SKLEARN_PACKAGE_INSTALL=True to avoid this error\n",
      "  \n",
      "  More information is available at\n",
      "  https://github.com/scikit-learn/sklearn-pypi-package\n",
      "  [end of output]\n",
      "  \n",
      "  note: This error originates from a subprocess, and is likely not a problem with pip.\n",
      "error: metadata-generation-failed\n",
      "\n",
      "Encountered error while generating package metadata.\n",
      "\n",
      "See above for output.\n",
      "\n",
      "note: This is an issue with the package mentioned above, not pip.\n",
      "hint: See above for details.\n",
      "\n",
      "[notice] A new release of pip is available: 23.2.1 -> 24.0\n",
      "[notice] To update, run: python.exe -m pip install --upgrade pip\n"
     ]
    },
    {
     "name": "stdout",
     "output_type": "stream",
     "text": [
      "Requirement already satisfied: matplotlib in d:\\learning\\ai\\ann-learning\\venv\\lib\\site-packages (3.8.3)\n",
      "Requirement already satisfied: contourpy>=1.0.1 in d:\\learning\\ai\\ann-learning\\venv\\lib\\site-packages (from matplotlib) (1.2.0)\n",
      "Requirement already satisfied: cycler>=0.10 in d:\\learning\\ai\\ann-learning\\venv\\lib\\site-packages (from matplotlib) (0.12.1)\n",
      "Requirement already satisfied: fonttools>=4.22.0 in d:\\learning\\ai\\ann-learning\\venv\\lib\\site-packages (from matplotlib) (4.49.0)\n",
      "Requirement already satisfied: kiwisolver>=1.3.1 in d:\\learning\\ai\\ann-learning\\venv\\lib\\site-packages (from matplotlib) (1.4.5)\n",
      "Requirement already satisfied: numpy<2,>=1.21 in d:\\learning\\ai\\ann-learning\\venv\\lib\\site-packages (from matplotlib) (1.26.4)\n",
      "Requirement already satisfied: packaging>=20.0 in d:\\learning\\ai\\ann-learning\\venv\\lib\\site-packages (from matplotlib) (23.2)\n",
      "Requirement already satisfied: pillow>=8 in d:\\learning\\ai\\ann-learning\\venv\\lib\\site-packages (from matplotlib) (10.2.0)\n",
      "Requirement already satisfied: pyparsing>=2.3.1 in d:\\learning\\ai\\ann-learning\\venv\\lib\\site-packages (from matplotlib) (3.1.1)\n",
      "Requirement already satisfied: python-dateutil>=2.7 in d:\\learning\\ai\\ann-learning\\venv\\lib\\site-packages (from matplotlib) (2.8.2)\n",
      "Requirement already satisfied: six>=1.5 in d:\\learning\\ai\\ann-learning\\venv\\lib\\site-packages (from python-dateutil>=2.7->matplotlib) (1.16.0)\n"
     ]
    },
    {
     "name": "stderr",
     "output_type": "stream",
     "text": [
      "\n",
      "[notice] A new release of pip is available: 23.2.1 -> 24.0\n",
      "[notice] To update, run: python.exe -m pip install --upgrade pip\n"
     ]
    }
   ],
   "source": [
    "#Install related libraries for the course. \n",
    "#This is a common requirement for all other exampels too\n",
    "\n",
    "!pip install pandas\n",
    "!pip install tensorflow\n",
    "!pip install sklearn\n",
    "!pip install matplotlib"
   ],
   "metadata": {
    "collapsed": false,
    "ExecuteTime": {
     "end_time": "2024-02-27T12:57:23.208269Z",
     "start_time": "2024-02-27T12:57:17.270117Z"
    }
   },
   "id": "cfce4bd9dd1730b8",
   "execution_count": 1
  },
  {
   "cell_type": "markdown",
   "source": [
    "# 1.2 Prepare Input Data for Deep Learning"
   ],
   "metadata": {
    "collapsed": false
   },
   "id": "8af66b19fc0758ff"
  },
  {
   "cell_type": "markdown",
   "source": [
    "# Perform the following steps for preparing data\n",
    "1. Load data into a pandas dataframe\n",
    "2. Convert the dataframe to a numpy array\n",
    "3. Scale the feature dataset\n",
    "4. Use one-hot-encoding for the target variable\n",
    "5. Split into training and test datasets"
   ],
   "metadata": {
    "collapsed": false
   },
   "id": "f6819ee13c83225b"
  },
  {
   "cell_type": "code",
   "outputs": [
    {
     "name": "stdout",
     "output_type": "stream",
     "text": [
      "WARNING:tensorflow:From D:\\LEARNING\\AI\\ANN-learning\\venv\\Lib\\site-packages\\keras\\src\\losses.py:2976: The name tf.losses.sparse_softmax_cross_entropy is deprecated. Please use tf.compat.v1.losses.sparse_softmax_cross_entropy instead.\n"
     ]
    }
   ],
   "source": [
    "import pandas as pd\n",
    "import os\n",
    "import tensorflow as tf\n",
    "import numpy as np\n",
    "from sklearn.model_selection import train_test_split\n",
    "from sklearn.preprocessing import StandardScaler"
   ],
   "metadata": {
    "collapsed": false,
    "ExecuteTime": {
     "end_time": "2024-02-27T12:57:35.806009Z",
     "start_time": "2024-02-27T12:57:23.209273Z"
    }
   },
   "id": "909d3934b3df7372",
   "execution_count": 2
  },
  {
   "cell_type": "code",
   "outputs": [
    {
     "data": {
      "text/plain": "   Sepal.Length  Sepal.Width  Petal.Length  Petal.Width Species\n0           5.1          3.5           1.4          0.2  setosa\n1           4.9          3.0           1.4          0.2  setosa\n2           4.7          3.2           1.3          0.2  setosa\n3           4.6          3.1           1.5          0.2  setosa\n4           5.0          3.6           1.4          0.2  setosa",
      "text/html": "<div>\n<style scoped>\n    .dataframe tbody tr th:only-of-type {\n        vertical-align: middle;\n    }\n\n    .dataframe tbody tr th {\n        vertical-align: top;\n    }\n\n    .dataframe thead th {\n        text-align: right;\n    }\n</style>\n<table border=\"1\" class=\"dataframe\">\n  <thead>\n    <tr style=\"text-align: right;\">\n      <th></th>\n      <th>Sepal.Length</th>\n      <th>Sepal.Width</th>\n      <th>Petal.Length</th>\n      <th>Petal.Width</th>\n      <th>Species</th>\n    </tr>\n  </thead>\n  <tbody>\n    <tr>\n      <th>0</th>\n      <td>5.1</td>\n      <td>3.5</td>\n      <td>1.4</td>\n      <td>0.2</td>\n      <td>setosa</td>\n    </tr>\n    <tr>\n      <th>1</th>\n      <td>4.9</td>\n      <td>3.0</td>\n      <td>1.4</td>\n      <td>0.2</td>\n      <td>setosa</td>\n    </tr>\n    <tr>\n      <th>2</th>\n      <td>4.7</td>\n      <td>3.2</td>\n      <td>1.3</td>\n      <td>0.2</td>\n      <td>setosa</td>\n    </tr>\n    <tr>\n      <th>3</th>\n      <td>4.6</td>\n      <td>3.1</td>\n      <td>1.5</td>\n      <td>0.2</td>\n      <td>setosa</td>\n    </tr>\n    <tr>\n      <th>4</th>\n      <td>5.0</td>\n      <td>3.6</td>\n      <td>1.4</td>\n      <td>0.2</td>\n      <td>setosa</td>\n    </tr>\n  </tbody>\n</table>\n</div>"
     },
     "execution_count": 3,
     "metadata": {},
     "output_type": "execute_result"
    }
   ],
   "source": [
    "# Load Data and review\n",
    "iris_data = pd.read_csv('datasets/iris.csv')\n",
    "iris_data.head()"
   ],
   "metadata": {
    "collapsed": false,
    "ExecuteTime": {
     "end_time": "2024-02-27T12:57:35.820819Z",
     "start_time": "2024-02-27T12:57:35.806961Z"
    }
   },
   "id": "59b6e72236a2fe23",
   "execution_count": 3
  },
  {
   "cell_type": "code",
   "outputs": [
    {
     "data": {
      "text/plain": "   Sepal.Length  Sepal.Width  Petal.Length  Petal.Width  Species\n0           5.1          3.5           1.4          0.2        0\n1           4.9          3.0           1.4          0.2        0\n2           4.7          3.2           1.3          0.2        0\n3           4.6          3.1           1.5          0.2        0\n4           5.0          3.6           1.4          0.2        0",
      "text/html": "<div>\n<style scoped>\n    .dataframe tbody tr th:only-of-type {\n        vertical-align: middle;\n    }\n\n    .dataframe tbody tr th {\n        vertical-align: top;\n    }\n\n    .dataframe thead th {\n        text-align: right;\n    }\n</style>\n<table border=\"1\" class=\"dataframe\">\n  <thead>\n    <tr style=\"text-align: right;\">\n      <th></th>\n      <th>Sepal.Length</th>\n      <th>Sepal.Width</th>\n      <th>Petal.Length</th>\n      <th>Petal.Width</th>\n      <th>Species</th>\n    </tr>\n  </thead>\n  <tbody>\n    <tr>\n      <th>0</th>\n      <td>5.1</td>\n      <td>3.5</td>\n      <td>1.4</td>\n      <td>0.2</td>\n      <td>0</td>\n    </tr>\n    <tr>\n      <th>1</th>\n      <td>4.9</td>\n      <td>3.0</td>\n      <td>1.4</td>\n      <td>0.2</td>\n      <td>0</td>\n    </tr>\n    <tr>\n      <th>2</th>\n      <td>4.7</td>\n      <td>3.2</td>\n      <td>1.3</td>\n      <td>0.2</td>\n      <td>0</td>\n    </tr>\n    <tr>\n      <th>3</th>\n      <td>4.6</td>\n      <td>3.1</td>\n      <td>1.5</td>\n      <td>0.2</td>\n      <td>0</td>\n    </tr>\n    <tr>\n      <th>4</th>\n      <td>5.0</td>\n      <td>3.6</td>\n      <td>1.4</td>\n      <td>0.2</td>\n      <td>0</td>\n    </tr>\n  </tbody>\n</table>\n</div>"
     },
     "execution_count": 4,
     "metadata": {},
     "output_type": "execute_result"
    }
   ],
   "source": [
    "# Use a label encoder to convert String to numeric values for the target variable\n",
    "from sklearn import preprocessing\n",
    "label_encoder = preprocessing.LabelEncoder()\n",
    "iris_data['Species'] = label_encoder.fit_transform(iris_data['Species'])\n",
    "iris_data.head()"
   ],
   "metadata": {
    "collapsed": false,
    "ExecuteTime": {
     "end_time": "2024-02-27T12:57:35.827872Z",
     "start_time": "2024-02-27T12:57:35.820819Z"
    }
   },
   "id": "5574737d792ec90a",
   "execution_count": 4
  },
  {
   "cell_type": "code",
   "outputs": [],
   "source": [
    "# Convert input to numpy array\n",
    "np_iris = iris_data.to_numpy()"
   ],
   "metadata": {
    "collapsed": false,
    "ExecuteTime": {
     "end_time": "2024-02-27T12:57:35.831645Z",
     "start_time": "2024-02-27T12:57:35.827872Z"
    }
   },
   "id": "35ddb3a14a13f6c1",
   "execution_count": 5
  },
  {
   "cell_type": "code",
   "outputs": [
    {
     "data": {
      "text/plain": "array([[5.1, 3.5, 1.4, 0.2, 0. ],\n       [4.9, 3. , 1.4, 0.2, 0. ],\n       [4.7, 3.2, 1.3, 0.2, 0. ],\n       [4.6, 3.1, 1.5, 0.2, 0. ],\n       [5. , 3.6, 1.4, 0.2, 0. ],\n       [5.4, 3.9, 1.7, 0.4, 0. ],\n       [4.6, 3.4, 1.4, 0.3, 0. ],\n       [5. , 3.4, 1.5, 0.2, 0. ],\n       [4.4, 2.9, 1.4, 0.2, 0. ],\n       [4.9, 3.1, 1.5, 0.1, 0. ],\n       [5.4, 3.7, 1.5, 0.2, 0. ],\n       [4.8, 3.4, 1.6, 0.2, 0. ],\n       [4.8, 3. , 1.4, 0.1, 0. ],\n       [4.3, 3. , 1.1, 0.1, 0. ],\n       [5.8, 4. , 1.2, 0.2, 0. ],\n       [5.7, 4.4, 1.5, 0.4, 0. ],\n       [5.4, 3.9, 1.3, 0.4, 0. ],\n       [5.1, 3.5, 1.4, 0.3, 0. ],\n       [5.7, 3.8, 1.7, 0.3, 0. ],\n       [5.1, 3.8, 1.5, 0.3, 0. ],\n       [5.4, 3.4, 1.7, 0.2, 0. ],\n       [5.1, 3.7, 1.5, 0.4, 0. ],\n       [4.6, 3.6, 1. , 0.2, 0. ],\n       [5.1, 3.3, 1.7, 0.5, 0. ],\n       [4.8, 3.4, 1.9, 0.2, 0. ],\n       [5. , 3. , 1.6, 0.2, 0. ],\n       [5. , 3.4, 1.6, 0.4, 0. ],\n       [5.2, 3.5, 1.5, 0.2, 0. ],\n       [5.2, 3.4, 1.4, 0.2, 0. ],\n       [4.7, 3.2, 1.6, 0.2, 0. ],\n       [4.8, 3.1, 1.6, 0.2, 0. ],\n       [5.4, 3.4, 1.5, 0.4, 0. ],\n       [5.2, 4.1, 1.5, 0.1, 0. ],\n       [5.5, 4.2, 1.4, 0.2, 0. ],\n       [4.9, 3.1, 1.5, 0.2, 0. ],\n       [5. , 3.2, 1.2, 0.2, 0. ],\n       [5.5, 3.5, 1.3, 0.2, 0. ],\n       [4.9, 3.6, 1.4, 0.1, 0. ],\n       [4.4, 3. , 1.3, 0.2, 0. ],\n       [5.1, 3.4, 1.5, 0.2, 0. ],\n       [5. , 3.5, 1.3, 0.3, 0. ],\n       [4.5, 2.3, 1.3, 0.3, 0. ],\n       [4.4, 3.2, 1.3, 0.2, 0. ],\n       [5. , 3.5, 1.6, 0.6, 0. ],\n       [5.1, 3.8, 1.9, 0.4, 0. ],\n       [4.8, 3. , 1.4, 0.3, 0. ],\n       [5.1, 3.8, 1.6, 0.2, 0. ],\n       [4.6, 3.2, 1.4, 0.2, 0. ],\n       [5.3, 3.7, 1.5, 0.2, 0. ],\n       [5. , 3.3, 1.4, 0.2, 0. ],\n       [7. , 3.2, 4.7, 1.4, 1. ],\n       [6.4, 3.2, 4.5, 1.5, 1. ],\n       [6.9, 3.1, 4.9, 1.5, 1. ],\n       [5.5, 2.3, 4. , 1.3, 1. ],\n       [6.5, 2.8, 4.6, 1.5, 1. ],\n       [5.7, 2.8, 4.5, 1.3, 1. ],\n       [6.3, 3.3, 4.7, 1.6, 1. ],\n       [4.9, 2.4, 3.3, 1. , 1. ],\n       [6.6, 2.9, 4.6, 1.3, 1. ],\n       [5.2, 2.7, 3.9, 1.4, 1. ],\n       [5. , 2. , 3.5, 1. , 1. ],\n       [5.9, 3. , 4.2, 1.5, 1. ],\n       [6. , 2.2, 4. , 1. , 1. ],\n       [6.1, 2.9, 4.7, 1.4, 1. ],\n       [5.6, 2.9, 3.6, 1.3, 1. ],\n       [6.7, 3.1, 4.4, 1.4, 1. ],\n       [5.6, 3. , 4.5, 1.5, 1. ],\n       [5.8, 2.7, 4.1, 1. , 1. ],\n       [6.2, 2.2, 4.5, 1.5, 1. ],\n       [5.6, 2.5, 3.9, 1.1, 1. ],\n       [5.9, 3.2, 4.8, 1.8, 1. ],\n       [6.1, 2.8, 4. , 1.3, 1. ],\n       [6.3, 2.5, 4.9, 1.5, 1. ],\n       [6.1, 2.8, 4.7, 1.2, 1. ],\n       [6.4, 2.9, 4.3, 1.3, 1. ],\n       [6.6, 3. , 4.4, 1.4, 1. ],\n       [6.8, 2.8, 4.8, 1.4, 1. ],\n       [6.7, 3. , 5. , 1.7, 1. ],\n       [6. , 2.9, 4.5, 1.5, 1. ],\n       [5.7, 2.6, 3.5, 1. , 1. ],\n       [5.5, 2.4, 3.8, 1.1, 1. ],\n       [5.5, 2.4, 3.7, 1. , 1. ],\n       [5.8, 2.7, 3.9, 1.2, 1. ],\n       [6. , 2.7, 5.1, 1.6, 1. ],\n       [5.4, 3. , 4.5, 1.5, 1. ],\n       [6. , 3.4, 4.5, 1.6, 1. ],\n       [6.7, 3.1, 4.7, 1.5, 1. ],\n       [6.3, 2.3, 4.4, 1.3, 1. ],\n       [5.6, 3. , 4.1, 1.3, 1. ],\n       [5.5, 2.5, 4. , 1.3, 1. ],\n       [5.5, 2.6, 4.4, 1.2, 1. ],\n       [6.1, 3. , 4.6, 1.4, 1. ],\n       [5.8, 2.6, 4. , 1.2, 1. ],\n       [5. , 2.3, 3.3, 1. , 1. ],\n       [5.6, 2.7, 4.2, 1.3, 1. ],\n       [5.7, 3. , 4.2, 1.2, 1. ],\n       [5.7, 2.9, 4.2, 1.3, 1. ],\n       [6.2, 2.9, 4.3, 1.3, 1. ],\n       [5.1, 2.5, 3. , 1.1, 1. ],\n       [5.7, 2.8, 4.1, 1.3, 1. ],\n       [6.3, 3.3, 6. , 2.5, 2. ],\n       [5.8, 2.7, 5.1, 1.9, 2. ],\n       [7.1, 3. , 5.9, 2.1, 2. ],\n       [6.3, 2.9, 5.6, 1.8, 2. ],\n       [6.5, 3. , 5.8, 2.2, 2. ],\n       [7.6, 3. , 6.6, 2.1, 2. ],\n       [4.9, 2.5, 4.5, 1.7, 2. ],\n       [7.3, 2.9, 6.3, 1.8, 2. ],\n       [6.7, 2.5, 5.8, 1.8, 2. ],\n       [7.2, 3.6, 6.1, 2.5, 2. ],\n       [6.5, 3.2, 5.1, 2. , 2. ],\n       [6.4, 2.7, 5.3, 1.9, 2. ],\n       [6.8, 3. , 5.5, 2.1, 2. ],\n       [5.7, 2.5, 5. , 2. , 2. ],\n       [5.8, 2.8, 5.1, 2.4, 2. ],\n       [6.4, 3.2, 5.3, 2.3, 2. ],\n       [6.5, 3. , 5.5, 1.8, 2. ],\n       [7.7, 3.8, 6.7, 2.2, 2. ],\n       [7.7, 2.6, 6.9, 2.3, 2. ],\n       [6. , 2.2, 5. , 1.5, 2. ],\n       [6.9, 3.2, 5.7, 2.3, 2. ],\n       [5.6, 2.8, 4.9, 2. , 2. ],\n       [7.7, 2.8, 6.7, 2. , 2. ],\n       [6.3, 2.7, 4.9, 1.8, 2. ],\n       [6.7, 3.3, 5.7, 2.1, 2. ],\n       [7.2, 3.2, 6. , 1.8, 2. ],\n       [6.2, 2.8, 4.8, 1.8, 2. ],\n       [6.1, 3. , 4.9, 1.8, 2. ],\n       [6.4, 2.8, 5.6, 2.1, 2. ],\n       [7.2, 3. , 5.8, 1.6, 2. ],\n       [7.4, 2.8, 6.1, 1.9, 2. ],\n       [7.9, 3.8, 6.4, 2. , 2. ],\n       [6.4, 2.8, 5.6, 2.2, 2. ],\n       [6.3, 2.8, 5.1, 1.5, 2. ],\n       [6.1, 2.6, 5.6, 1.4, 2. ],\n       [7.7, 3. , 6.1, 2.3, 2. ],\n       [6.3, 3.4, 5.6, 2.4, 2. ],\n       [6.4, 3.1, 5.5, 1.8, 2. ],\n       [6. , 3. , 4.8, 1.8, 2. ],\n       [6.9, 3.1, 5.4, 2.1, 2. ],\n       [6.7, 3.1, 5.6, 2.4, 2. ],\n       [6.9, 3.1, 5.1, 2.3, 2. ],\n       [5.8, 2.7, 5.1, 1.9, 2. ],\n       [6.8, 3.2, 5.9, 2.3, 2. ],\n       [6.7, 3.3, 5.7, 2.5, 2. ],\n       [6.7, 3. , 5.2, 2.3, 2. ],\n       [6.3, 2.5, 5. , 1.9, 2. ],\n       [6.5, 3. , 5.2, 2. , 2. ],\n       [6.2, 3.4, 5.4, 2.3, 2. ],\n       [5.9, 3. , 5.1, 1.8, 2. ]])"
     },
     "execution_count": 6,
     "metadata": {},
     "output_type": "execute_result"
    }
   ],
   "source": [
    "np_iris"
   ],
   "metadata": {
    "collapsed": false,
    "ExecuteTime": {
     "end_time": "2024-02-27T12:57:35.838815Z",
     "start_time": "2024-02-27T12:57:35.832653Z"
    }
   },
   "id": "6f13da66d0a0c6ed",
   "execution_count": 6
  },
  {
   "cell_type": "code",
   "outputs": [],
   "source": [
    "X_data = np_iris[:,0:4]\n",
    "Y_data = np_iris[:,4]"
   ],
   "metadata": {
    "collapsed": false,
    "ExecuteTime": {
     "end_time": "2024-02-27T12:57:35.841764Z",
     "start_time": "2024-02-27T12:57:35.839330Z"
    }
   },
   "id": "fc0c9fea2b844f01",
   "execution_count": 7
  },
  {
   "cell_type": "code",
   "outputs": [
    {
     "data": {
      "text/plain": "array([[5.1, 3.5, 1.4, 0.2],\n       [4.9, 3. , 1.4, 0.2],\n       [4.7, 3.2, 1.3, 0.2],\n       [4.6, 3.1, 1.5, 0.2],\n       [5. , 3.6, 1.4, 0.2]])"
     },
     "execution_count": 8,
     "metadata": {},
     "output_type": "execute_result"
    }
   ],
   "source": [
    "# Features before scaling\n",
    "X_data[:5,:]"
   ],
   "metadata": {
    "collapsed": false,
    "ExecuteTime": {
     "end_time": "2024-02-27T12:57:35.845671Z",
     "start_time": "2024-02-27T12:57:35.842773Z"
    }
   },
   "id": "1ccd98aaa57670ce",
   "execution_count": 8
  },
  {
   "cell_type": "code",
   "outputs": [
    {
     "data": {
      "text/plain": "array([0., 0., 0., 0., 0.])"
     },
     "execution_count": 9,
     "metadata": {},
     "output_type": "execute_result"
    }
   ],
   "source": [
    "# Target before scaling\n",
    "Y_data[:5]"
   ],
   "metadata": {
    "collapsed": false,
    "ExecuteTime": {
     "end_time": "2024-02-27T12:57:35.850839Z",
     "start_time": "2024-02-27T12:57:35.845671Z"
    }
   },
   "id": "7dc48e82f635d3a1",
   "execution_count": 9
  },
  {
   "cell_type": "code",
   "outputs": [],
   "source": [
    "#Create a scaler model that is fit on the input data.\n",
    "scaler = StandardScaler().fit(X_data)"
   ],
   "metadata": {
    "collapsed": false,
    "ExecuteTime": {
     "end_time": "2024-02-27T12:57:35.856654Z",
     "start_time": "2024-02-27T12:57:35.852846Z"
    }
   },
   "id": "8e5a40919fca6fd4",
   "execution_count": 10
  },
  {
   "cell_type": "code",
   "outputs": [],
   "source": [
    "#Scale the numeric feature variables\n",
    "X_data = scaler.transform(X_data)"
   ],
   "metadata": {
    "collapsed": false,
    "ExecuteTime": {
     "end_time": "2024-02-27T12:57:35.861034Z",
     "start_time": "2024-02-27T12:57:35.857661Z"
    }
   },
   "id": "586204cc135da97a",
   "execution_count": 11
  },
  {
   "cell_type": "code",
   "outputs": [],
   "source": [
    "#Convert target variable as a one-hot-encoding array\n",
    "Y_data = tf.keras.utils.to_categorical(Y_data,3)"
   ],
   "metadata": {
    "collapsed": false,
    "ExecuteTime": {
     "end_time": "2024-02-27T12:57:35.991118Z",
     "start_time": "2024-02-27T12:57:35.862041Z"
    }
   },
   "id": "184fa9413ea499da",
   "execution_count": 12
  },
  {
   "cell_type": "code",
   "outputs": [
    {
     "data": {
      "text/plain": "array([[-0.90068117,  1.01900435, -1.34022653, -1.3154443 ],\n       [-1.14301691, -0.13197948, -1.34022653, -1.3154443 ],\n       [-1.38535265,  0.32841405, -1.39706395, -1.3154443 ],\n       [-1.50652052,  0.09821729, -1.2833891 , -1.3154443 ],\n       [-1.02184904,  1.24920112, -1.34022653, -1.3154443 ]])"
     },
     "execution_count": 13,
     "metadata": {},
     "output_type": "execute_result"
    }
   ],
   "source": [
    "X_data[:5,:]"
   ],
   "metadata": {
    "collapsed": false,
    "ExecuteTime": {
     "end_time": "2024-02-27T12:57:35.995576Z",
     "start_time": "2024-02-27T12:57:35.992129Z"
    }
   },
   "id": "34c487c94339da63",
   "execution_count": 13
  },
  {
   "cell_type": "code",
   "outputs": [
    {
     "data": {
      "text/plain": "array([[1., 0., 0.],\n       [1., 0., 0.],\n       [1., 0., 0.],\n       [1., 0., 0.],\n       [1., 0., 0.]], dtype=float32)"
     },
     "execution_count": 14,
     "metadata": {},
     "output_type": "execute_result"
    }
   ],
   "source": [
    "Y_data[:5,:]"
   ],
   "metadata": {
    "collapsed": false,
    "ExecuteTime": {
     "end_time": "2024-02-27T12:57:36.000539Z",
     "start_time": "2024-02-27T12:57:35.997587Z"
    }
   },
   "id": "6a7a5c62e53928f1",
   "execution_count": 14
  },
  {
   "cell_type": "code",
   "outputs": [],
   "source": [
    "#Split training and test data\n",
    "X_train,X_test,Y_train,Y_test = train_test_split( X_data, Y_data, test_size=0.10)"
   ],
   "metadata": {
    "collapsed": false,
    "ExecuteTime": {
     "end_time": "2024-02-27T12:57:36.004021Z",
     "start_time": "2024-02-27T12:57:36.001546Z"
    }
   },
   "id": "4231323296f02cda",
   "execution_count": 15
  },
  {
   "cell_type": "code",
   "outputs": [
    {
     "name": "stdout",
     "output_type": "stream",
     "text": [
      "(135, 4) (135, 3) (15, 4) (15, 3)\n"
     ]
    }
   ],
   "source": [
    "print(X_train.shape, Y_train.shape, X_test.shape, Y_test.shape)"
   ],
   "metadata": {
    "collapsed": false,
    "ExecuteTime": {
     "end_time": "2024-02-27T12:57:36.007754Z",
     "start_time": "2024-02-27T12:57:36.004021Z"
    }
   },
   "id": "d5da3c5ba32e6077",
   "execution_count": 16
  },
  {
   "cell_type": "markdown",
   "source": [
    "# 1.3 Creating a Model\n",
    "\n",
    "Creating a model in Keras requires defining the following\n",
    "\n",
    "1. Number of hidden layers\n",
    "2. Number of nodes in each layer\n",
    "3. Activation functions\n",
    "4. Loss Function & Accuracy measurements"
   ],
   "metadata": {
    "collapsed": false
   },
   "id": "22e01f7b106f64f4"
  },
  {
   "cell_type": "code",
   "outputs": [
    {
     "name": "stdout",
     "output_type": "stream",
     "text": [
      "WARNING:tensorflow:From D:\\LEARNING\\AI\\ANN-learning\\venv\\Lib\\site-packages\\keras\\src\\backend.py:873: The name tf.get_default_graph is deprecated. Please use tf.compat.v1.get_default_graph instead.\n",
      "WARNING:tensorflow:From D:\\LEARNING\\AI\\ANN-learning\\venv\\Lib\\site-packages\\keras\\src\\optimizers\\__init__.py:309: The name tf.train.Optimizer is deprecated. Please use tf.compat.v1.train.Optimizer instead.\n",
      "\n",
      "Model: \"sequential\"\n",
      "_________________________________________________________________\n",
      " Layer (type)                Output Shape              Param #   \n",
      "=================================================================\n",
      " Hidden-Layer-1 (Dense)      (None, 128)               640       \n",
      "                                                                 \n",
      " Hidden-Layer-2 (Dense)      (None, 128)               16512     \n",
      "                                                                 \n",
      " Output-Layer (Dense)        (None, 3)                 387       \n",
      "                                                                 \n",
      "=================================================================\n",
      "Total params: 17539 (68.51 KB)\n",
      "Trainable params: 17539 (68.51 KB)\n",
      "Non-trainable params: 0 (0.00 Byte)\n",
      "_________________________________________________________________\n"
     ]
    }
   ],
   "source": [
    "from tensorflow import keras\n",
    "\n",
    "#Number of classes in the target variable\n",
    "NB_CLASSES = 3\n",
    "\n",
    "#Create a sequential model in Keras\n",
    "model = tf.keras.models.Sequential()\n",
    "\n",
    "#Add the first hidden layer\n",
    "model.add(keras.layers.Dense(128,                    #Number of nodes\n",
    "                             input_shape=(4,),       #Number of input variables\n",
    "                             name='Hidden-Layer-1', #Logical name\n",
    "                             activation='relu'))    #activation function\n",
    "\n",
    "#Add a second hidden layer\n",
    "model.add(keras.layers.Dense(128, \n",
    "                             name='Hidden-Layer-2', \n",
    "                             activation='relu'))\n",
    "\n",
    "#Add an output layer with softmax activation\n",
    "model.add(keras.layers.Dense(NB_CLASSES,\n",
    "                             name='Output-Layer',\n",
    "                             activation='softmax'))\n",
    "\n",
    "#Compile the model with loss & metrics\n",
    "model.compile(loss='categorical_crossentropy',\n",
    "              metrics=['accuracy'])\n",
    "\n",
    "model.summary()"
   ],
   "metadata": {
    "collapsed": false,
    "ExecuteTime": {
     "end_time": "2024-02-27T12:57:36.212522Z",
     "start_time": "2024-02-27T12:57:36.007754Z"
    }
   },
   "id": "6e26ed89bf72a8d2",
   "execution_count": 17
  },
  {
   "cell_type": "markdown",
   "source": [
    "# 1.4 Training and Evaluating the Model\n",
    "Training the model involves defining various training models and then perform \n",
    "forward and back propagation."
   ],
   "metadata": {
    "collapsed": false
   },
   "id": "1a7afddcc74d51f2"
  },
  {
   "cell_type": "code",
   "outputs": [
    {
     "name": "stdout",
     "output_type": "stream",
     "text": [
      "Epoch 1/10\n",
      "WARNING:tensorflow:From D:\\LEARNING\\AI\\ANN-learning\\venv\\Lib\\site-packages\\keras\\src\\utils\\tf_utils.py:492: The name tf.ragged.RaggedTensorValue is deprecated. Please use tf.compat.v1.ragged.RaggedTensorValue instead.\n",
      "WARNING:tensorflow:From D:\\LEARNING\\AI\\ANN-learning\\venv\\Lib\\site-packages\\keras\\src\\engine\\base_layer_utils.py:384: The name tf.executing_eagerly_outside_functions is deprecated. Please use tf.compat.v1.executing_eagerly_outside_functions instead.\n",
      "7/7 [==============================] - 0s 22ms/step - loss: 0.8731 - accuracy: 0.7407 - val_loss: 0.5800 - val_accuracy: 0.9259\n",
      "Epoch 2/10\n",
      "7/7 [==============================] - 0s 4ms/step - loss: 0.5785 - accuracy: 0.8056 - val_loss: 0.4132 - val_accuracy: 0.9259\n",
      "Epoch 3/10\n",
      "7/7 [==============================] - 0s 4ms/step - loss: 0.4679 - accuracy: 0.8333 - val_loss: 0.3348 - val_accuracy: 0.9259\n",
      "Epoch 4/10\n",
      "7/7 [==============================] - 0s 4ms/step - loss: 0.4051 - accuracy: 0.8148 - val_loss: 0.2779 - val_accuracy: 0.9259\n",
      "Epoch 5/10\n",
      "7/7 [==============================] - 0s 4ms/step - loss: 0.3598 - accuracy: 0.8333 - val_loss: 0.2315 - val_accuracy: 0.9630\n",
      "Epoch 6/10\n",
      "7/7 [==============================] - 0s 4ms/step - loss: 0.3253 - accuracy: 0.8611 - val_loss: 0.2008 - val_accuracy: 0.9630\n",
      "Epoch 7/10\n",
      "7/7 [==============================] - 0s 4ms/step - loss: 0.2920 - accuracy: 0.8704 - val_loss: 0.1789 - val_accuracy: 1.0000\n",
      "Epoch 8/10\n",
      "7/7 [==============================] - 0s 4ms/step - loss: 0.2667 - accuracy: 0.8981 - val_loss: 0.1600 - val_accuracy: 1.0000\n",
      "Epoch 9/10\n",
      "7/7 [==============================] - 0s 4ms/step - loss: 0.2471 - accuracy: 0.9074 - val_loss: 0.1502 - val_accuracy: 0.9630\n",
      "Epoch 10/10\n",
      "7/7 [==============================] - 0s 4ms/step - loss: 0.2183 - accuracy: 0.9352 - val_loss: 0.1297 - val_accuracy: 1.0000\n"
     ]
    },
    {
     "data": {
      "text/plain": "<Figure size 800x500 with 1 Axes>",
      "image/png": "[encoded data removed]"
     },
     "metadata": {},
     "output_type": "display_data"
    }
   ],
   "source": [
    "#Make it verbose so we can see the progress\n",
    "VERBOSE=1\n",
    "\n",
    "#Set Batch size\n",
    "BATCH_SIZE=16\n",
    "\n",
    "#Set number of epochs\n",
    "EPOCHS=10\n",
    "\n",
    "#Set validation split. 20% of the training data will be used for validation\n",
    "#after each epoch\n",
    "VALIDATION_SPLIT=0.2\n",
    "\n",
    "#Fit the model. This will perform the entire training cycle, including\n",
    "#forward propagation, loss computation, backward propagation and gradient descent.\n",
    "#Execute for the specified batch sizes and epoch\n",
    "#Perform validation after each epoch \n",
    "\n",
    "history=model.fit(X_train,\n",
    "                  Y_train,\n",
    "                  batch_size=BATCH_SIZE,\n",
    "                  epochs=EPOCHS,\n",
    "                  verbose=VERBOSE,\n",
    "                  validation_split=VALIDATION_SPLIT)\n",
    "\n",
    "import matplotlib.pyplot as plt\n",
    "\n",
    "#Plot accuracy of the model after each epoch.\n",
    "pd.DataFrame(history.history)[\"accuracy\"].plot(figsize=(8, 5))\n",
    "plt.title(\"Accuracy improvements with Epoch\")\n",
    "plt.show()"
   ],
   "metadata": {
    "collapsed": false,
    "ExecuteTime": {
     "end_time": "2024-02-27T12:57:37.832614Z",
     "start_time": "2024-02-27T12:57:36.212522Z"
    }
   },
   "id": "a48d1ef1f072e863",
   "execution_count": 18
  },
  {
   "cell_type": "code",
   "outputs": [
    {
     "name": "stdout",
     "output_type": "stream",
     "text": [
      "1/1 [==============================] - 0s 18ms/step - loss: 0.1949 - accuracy: 0.9333\n"
     ]
    },
    {
     "data": {
      "text/plain": "[0.19491147994995117, 0.9333333373069763]"
     },
     "execution_count": 19,
     "metadata": {},
     "output_type": "execute_result"
    }
   ],
   "source": [
    "model.evaluate(X_test,Y_test)"
   ],
   "metadata": {
    "collapsed": false,
    "ExecuteTime": {
     "end_time": "2024-02-27T12:57:37.884412Z",
     "start_time": "2024-02-27T12:57:37.833620Z"
    }
   },
   "id": "87192bbd97aaafe8",
   "execution_count": 19
  },
  {
   "cell_type": "markdown",
   "source": [
    "# 1.5 Saving and Loading Models"
   ],
   "metadata": {
    "collapsed": false
   },
   "id": "b0798e22a4267065"
  },
  {
   "cell_type": "code",
   "outputs": [
    {
     "name": "stderr",
     "output_type": "stream",
     "text": [
      "WARNING:absl:`Hidden-Layer-1_input` is not a valid tf.function parameter name. Sanitizing to `Hidden_Layer_1_input`.\n",
      "WARNING:absl:`Hidden-Layer-1_input` is not a valid tf.function parameter name. Sanitizing to `Hidden_Layer_1_input`.\n",
      "WARNING:absl:`Hidden-Layer-1_input` is not a valid tf.function parameter name. Sanitizing to `Hidden_Layer_1_input`.\n"
     ]
    },
    {
     "name": "stdout",
     "output_type": "stream",
     "text": [
      "INFO:tensorflow:Assets written to: iris_save\\assets\n"
     ]
    },
    {
     "name": "stderr",
     "output_type": "stream",
     "text": [
      "INFO:tensorflow:Assets written to: iris_save\\assets\n"
     ]
    }
   ],
   "source": [
    "#Saving a model\n",
    "\n",
    "model.save(\"iris_save\")"
   ],
   "metadata": {
    "collapsed": false,
    "ExecuteTime": {
     "end_time": "2024-02-27T12:57:38.164741Z",
     "start_time": "2024-02-27T12:57:37.884412Z"
    }
   },
   "id": "4700f2a0bdfdf088",
   "execution_count": 20
  },
  {
   "cell_type": "code",
   "outputs": [
    {
     "name": "stdout",
     "output_type": "stream",
     "text": [
      "WARNING:tensorflow:From D:\\LEARNING\\AI\\ANN-learning\\venv\\Lib\\site-packages\\keras\\src\\saving\\legacy\\saved_model\\load.py:107: The name tf.gfile.Exists is deprecated. Please use tf.io.gfile.exists instead.\n"
     ]
    },
    {
     "name": "stderr",
     "output_type": "stream",
     "text": [
      "WARNING:tensorflow:From D:\\LEARNING\\AI\\ANN-learning\\venv\\Lib\\site-packages\\keras\\src\\saving\\legacy\\saved_model\\load.py:107: The name tf.gfile.Exists is deprecated. Please use tf.io.gfile.exists instead.\n",
      "\n"
     ]
    }
   ],
   "source": [
    "#Loading a Model \n",
    "loaded_model = keras.models.load_model(\"iris_save\")"
   ],
   "metadata": {
    "collapsed": false,
    "ExecuteTime": {
     "end_time": "2024-02-27T12:57:38.312050Z",
     "start_time": "2024-02-27T12:57:38.164741Z"
    }
   },
   "id": "6fa99c9cd9620877",
   "execution_count": 21
  },
  {
   "cell_type": "code",
   "outputs": [
    {
     "name": "stdout",
     "output_type": "stream",
     "text": [
      "Model: \"sequential\"\n",
      "_________________________________________________________________\n",
      " Layer (type)                Output Shape              Param #   \n",
      "=================================================================\n",
      " Hidden-Layer-1 (Dense)      (None, 128)               640       \n",
      "                                                                 \n",
      " Hidden-Layer-2 (Dense)      (None, 128)               16512     \n",
      "                                                                 \n",
      " Output-Layer (Dense)        (None, 3)                 387       \n",
      "                                                                 \n",
      "=================================================================\n",
      "Total params: 17539 (68.51 KB)\n",
      "Trainable params: 17539 (68.51 KB)\n",
      "Non-trainable params: 0 (0.00 Byte)\n",
      "_________________________________________________________________\n"
     ]
    }
   ],
   "source": [
    "#Print Model Summary\n",
    "loaded_model.summary()"
   ],
   "metadata": {
    "collapsed": false,
    "ExecuteTime": {
     "end_time": "2024-02-27T12:57:38.321225Z",
     "start_time": "2024-02-27T12:57:38.312050Z"
    }
   },
   "id": "5d1851869168ac97",
   "execution_count": 22
  },
  {
   "cell_type": "markdown",
   "source": [
    "# 1.6 Predictions with Learning Models"
   ],
   "metadata": {
    "collapsed": false
   },
   "id": "50e2e8a1dcd765ee"
  },
  {
   "cell_type": "code",
   "outputs": [
    {
     "data": {
      "text/plain": "array([[ 0.91683689, -0.13197948,  0.36489628,  0.26414192]])"
     },
     "execution_count": 23,
     "metadata": {},
     "output_type": "execute_result"
    }
   ],
   "source": [
    "# Raw prediction data\n",
    "prediction_input = [[6.6, 3. , 4.4, 1.4]]\n",
    "\n",
    "#Scale prediction data with the same scaling model\n",
    "scaled_input = scaler.transform(prediction_input)\n",
    "scaled_input"
   ],
   "metadata": {
    "collapsed": false,
    "ExecuteTime": {
     "end_time": "2024-02-27T12:57:38.325435Z",
     "start_time": "2024-02-27T12:57:38.321225Z"
    }
   },
   "id": "32d90a157b6ea149",
   "execution_count": 23
  },
  {
   "cell_type": "code",
   "outputs": [
    {
     "name": "stdout",
     "output_type": "stream",
     "text": [
      "1/1 [==============================] - 0s 46ms/step\n"
     ]
    },
    {
     "data": {
      "text/plain": "array([[0.01455275, 0.7370533 , 0.24839401]], dtype=float32)"
     },
     "execution_count": 24,
     "metadata": {},
     "output_type": "execute_result"
    }
   ],
   "source": [
    "#Get raw prediction probabilities\n",
    "raw_prediction = model.predict(scaled_input)\n",
    "raw_prediction"
   ],
   "metadata": {
    "collapsed": false,
    "ExecuteTime": {
     "end_time": "2024-02-27T12:57:38.401031Z",
     "start_time": "2024-02-27T12:57:38.326226Z"
    }
   },
   "id": "28660473efd67294",
   "execution_count": 24
  },
  {
   "cell_type": "code",
   "outputs": [
    {
     "data": {
      "text/plain": "array(['versicolor'], dtype=object)"
     },
     "execution_count": 25,
     "metadata": {},
     "output_type": "execute_result"
    }
   ],
   "source": [
    "#Find prediction\n",
    "prediction = np.argmax(raw_prediction)\n",
    "label_encoder.inverse_transform([prediction])"
   ],
   "metadata": {
    "collapsed": false,
    "ExecuteTime": {
     "end_time": "2024-02-27T12:57:38.405174Z",
     "start_time": "2024-02-27T12:57:38.401031Z"
    }
   },
   "id": "1e7973c5b2402a52",
   "execution_count": 25
  },
  {
   "cell_type": "code",
   "outputs": [],
   "source": [],
   "metadata": {
    "collapsed": false,
    "ExecuteTime": {
     "end_time": "2024-02-27T12:57:38.407557Z",
     "start_time": "2024-02-27T12:57:38.406193Z"
    }
   },
   "id": "3f7bf1a4d05c2054",
   "execution_count": 25
  }
 ],
 "metadata": {
  "kernelspec": {
   "display_name": "Python 3",
   "language": "python",
   "name": "python3"
  },
  "language_info": {
   "codemirror_mode": {
    "name": "ipython",
    "version": 2
   },
   "file_extension": ".py",
   "mimetype": "text/x-python",
   "name": "python",
   "nbconvert_exporter": "python",
   "pygments_lexer": "ipython2",
   "version": "2.7.6"
  }
 },
 "nbformat": 4,
 "nbformat_minor": 5
}
