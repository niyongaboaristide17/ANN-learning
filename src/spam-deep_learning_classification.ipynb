{
 "cells": [
  {
   "cell_type": "markdown",
   "source": [
    "# HAM or SPAM message classification\n",
    "Build an ANN model to predict message type"
   ],
   "metadata": {
    "collapsed": false
   },
   "id": "d0a209f4eebe648a"
  },
  {
   "cell_type": "markdown",
   "source": [
    "## SMS Data Set\n",
    "### Feature variables\n",
    "- SMS message\n",
    "### Target class: message type\n",
    "- Ham, spam"
   ],
   "metadata": {
    "collapsed": false
   },
   "id": "3117752aa387a460"
  },
  {
   "cell_type": "markdown",
   "source": [
    "## Test processing\n",
    "- Cleansing\n",
    "- Stop word removal\n",
    "- Lemmatization\n",
    "- Numeric representation\n",
    "- - TF-IDF vs. word embeddings"
   ],
   "metadata": {
    "collapsed": false
   },
   "id": "560616e1d82715d0"
  },
  {
   "cell_type": "markdown",
   "source": [
    "# 2.1 Setup\n",
    "Install required text processing libraries for the example"
   ],
   "metadata": {
    "collapsed": false
   },
   "id": "c8799e2caa7acbb7"
  },
  {
   "cell_type": "code",
   "outputs": [
    {
     "name": "stdout",
     "output_type": "stream",
     "text": [
      "Requirement already satisfied: nltk in d:\\learning\\ai\\ann-learning\\venv\\lib\\site-packages (3.8.1)\n",
      "Requirement already satisfied: click in d:\\learning\\ai\\ann-learning\\venv\\lib\\site-packages (from nltk) (8.1.7)\n",
      "Requirement already satisfied: joblib in d:\\learning\\ai\\ann-learning\\venv\\lib\\site-packages (from nltk) (1.3.2)\n",
      "Requirement already satisfied: regex>=2021.8.3 in d:\\learning\\ai\\ann-learning\\venv\\lib\\site-packages (from nltk) (2023.12.25)\n",
      "Requirement already satisfied: tqdm in d:\\learning\\ai\\ann-learning\\venv\\lib\\site-packages (from nltk) (4.66.2)\n",
      "Requirement already satisfied: colorama in d:\\learning\\ai\\ann-learning\\venv\\lib\\site-packages (from click->nltk) (0.4.6)\n"
     ]
    },
    {
     "name": "stderr",
     "output_type": "stream",
     "text": [
      "\n",
      "[notice] A new release of pip is available: 23.2.1 -> 24.0\n",
      "[notice] To update, run: python.exe -m pip install --upgrade pip\n"
     ]
    }
   ],
   "source": [
    "from keras import Sequential\n",
    "!pip install nltk"
   ],
   "metadata": {
    "collapsed": false,
    "ExecuteTime": {
     "end_time": "2024-02-28T07:30:43.655813Z",
     "start_time": "2024-02-28T07:30:41.620710Z"
    }
   },
   "id": "a117c200f5bac161",
   "execution_count": 29
  },
  {
   "cell_type": "code",
   "outputs": [
    {
     "name": "stderr",
     "output_type": "stream",
     "text": [
      "[nltk_data] Downloading package stopwords to\n",
      "[nltk_data]     C:\\Users\\Lunette\\AppData\\Roaming\\nltk_data...\n",
      "[nltk_data]   Package stopwords is already up-to-date!\n",
      "[nltk_data] Downloading package punkt to\n",
      "[nltk_data]     C:\\Users\\Lunette\\AppData\\Roaming\\nltk_data...\n",
      "[nltk_data]   Package punkt is already up-to-date!\n",
      "[nltk_data] Downloading package wordnet to\n",
      "[nltk_data]     C:\\Users\\Lunette\\AppData\\Roaming\\nltk_data...\n",
      "[nltk_data]   Package wordnet is already up-to-date!\n"
     ]
    }
   ],
   "source": [
    "import  nltk\n",
    "nltk.download('stopwords')\n",
    "nltk.download('punkt')\n",
    "\n",
    "from nltk.corpus import stopwords\n",
    "\n",
    "nltk.download('wordnet')\n",
    "from nltk.stem import WordNetLemmatizer\n",
    "\n",
    "lemmatizer = WordNetLemmatizer()"
   ],
   "metadata": {
    "collapsed": false,
    "ExecuteTime": {
     "end_time": "2024-02-28T07:30:43.659920Z",
     "start_time": "2024-02-28T07:30:43.656818Z"
    }
   },
   "id": "6522275ae1d16ec5",
   "execution_count": 30
  },
  {
   "cell_type": "markdown",
   "source": [
    "# 2.2 Creating Text Representations\n",
    "Text data needs to be converted to numeric representations before they can be used to train deep learning models. The Spam classification feature data is converted to TF-IDF vectors and the target variable is converted to one-hot encoding."
   ],
   "metadata": {
    "collapsed": false
   },
   "id": "3ece017340cb8051"
  },
  {
   "cell_type": "code",
   "outputs": [],
   "source": [
    "import pandas as pd\n",
    "import os\n",
    "import numpy as np\n",
    "from sklearn.model_selection import train_test_split\n",
    "from sklearn.preprocessing import scale"
   ],
   "metadata": {
    "collapsed": false,
    "ExecuteTime": {
     "end_time": "2024-02-28T07:30:43.663425Z",
     "start_time": "2024-02-28T07:30:43.659920Z"
    }
   },
   "id": "c87d026e9d5cb23c",
   "execution_count": 31
  },
  {
   "cell_type": "code",
   "outputs": [
    {
     "data": {
      "text/plain": "  CLASS                                                SMS\n0   ham   said kiss, kiss, i can't do the sound effects...\n1   ham      &lt;#&gt; ISH MINUTES WAS 5 MINUTES AGO. WTF.\n2  spam  (Bank of Granite issues Strong-Buy) EXPLOSIVE ...\n3  spam  * FREE* POLYPHONIC RINGTONE Text SUPER to 8713...\n4  spam  **FREE MESSAGE**Thanks for using the Auction S...",
      "text/html": "<div>\n<style scoped>\n    .dataframe tbody tr th:only-of-type {\n        vertical-align: middle;\n    }\n\n    .dataframe tbody tr th {\n        vertical-align: top;\n    }\n\n    .dataframe thead th {\n        text-align: right;\n    }\n</style>\n<table border=\"1\" class=\"dataframe\">\n  <thead>\n    <tr style=\"text-align: right;\">\n      <th></th>\n      <th>CLASS</th>\n      <th>SMS</th>\n    </tr>\n  </thead>\n  <tbody>\n    <tr>\n      <th>0</th>\n      <td>ham</td>\n      <td>said kiss, kiss, i can't do the sound effects...</td>\n    </tr>\n    <tr>\n      <th>1</th>\n      <td>ham</td>\n      <td>&amp;lt;#&amp;gt; ISH MINUTES WAS 5 MINUTES AGO. WTF.</td>\n    </tr>\n    <tr>\n      <th>2</th>\n      <td>spam</td>\n      <td>(Bank of Granite issues Strong-Buy) EXPLOSIVE ...</td>\n    </tr>\n    <tr>\n      <th>3</th>\n      <td>spam</td>\n      <td>* FREE* POLYPHONIC RINGTONE Text SUPER to 8713...</td>\n    </tr>\n    <tr>\n      <th>4</th>\n      <td>spam</td>\n      <td>**FREE MESSAGE**Thanks for using the Auction S...</td>\n    </tr>\n  </tbody>\n</table>\n</div>"
     },
     "execution_count": 32,
     "metadata": {},
     "output_type": "execute_result"
    }
   ],
   "source": [
    "# Load Spam Data and review content\n",
    "spam_data = pd.read_csv('datasets/Spam-Classification.csv')\n",
    "spam_data.head()"
   ],
   "metadata": {
    "collapsed": false,
    "ExecuteTime": {
     "end_time": "2024-02-28T07:30:43.673357Z",
     "start_time": "2024-02-28T07:30:43.663425Z"
    }
   },
   "id": "cb3e546a8545c367",
   "execution_count": 32
  },
  {
   "cell_type": "code",
   "outputs": [],
   "source": [
    "# pd.unique(spam_data['CLASS'])"
   ],
   "metadata": {
    "collapsed": false,
    "ExecuteTime": {
     "end_time": "2024-02-28T07:30:43.676216Z",
     "start_time": "2024-02-28T07:30:43.673357Z"
    }
   },
   "id": "7ec5a24e79b24e0c",
   "execution_count": 33
  },
  {
   "cell_type": "code",
   "outputs": [],
   "source": [
    "# Separate feature and target data\n",
    "spam_classes_raw = spam_data['CLASS']\n",
    "spam_messages = spam_data['SMS']"
   ],
   "metadata": {
    "collapsed": false,
    "ExecuteTime": {
     "end_time": "2024-02-28T07:30:43.679587Z",
     "start_time": "2024-02-28T07:30:43.676216Z"
    }
   },
   "id": "eeb06d6c658d27f3",
   "execution_count": 34
  },
  {
   "cell_type": "code",
   "outputs": [],
   "source": [
    "import nltk\n",
    "import tensorflow as tf\n",
    "\n",
    "# Custom tokenizer to remove stopwords and use lemmatization\n",
    "def customtokenize(str):\n",
    "    # Split string as tokens\n",
    "    tokens = nltk.word_tokenize(str)\n",
    "    # Filter for stopwords\n",
    "    nostop = list(filter(lambda token: token not in stopwords.words('english'), tokens))\n",
    "    # Perform lemmatization\n",
    "    lemmatized = [lemmatizer.lemmatize(word) for word in nostop]\n",
    "    return lemmatized"
   ],
   "metadata": {
    "collapsed": false,
    "ExecuteTime": {
     "end_time": "2024-02-28T07:30:43.683255Z",
     "start_time": "2024-02-28T07:30:43.679587Z"
    }
   },
   "id": "93cbdfeb1bfce481",
   "execution_count": 35
  },
  {
   "cell_type": "code",
   "outputs": [
    {
     "name": "stderr",
     "output_type": "stream",
     "text": [
      "D:\\LEARNING\\AI\\ANN-learning\\venv\\Lib\\site-packages\\sklearn\\feature_extraction\\text.py:525: UserWarning: The parameter 'token_pattern' will not be used since 'tokenizer' is not None'\n",
      "  warnings.warn(\n"
     ]
    },
    {
     "data": {
      "text/plain": "array([[0.23654167, 0.        , 0.        , ..., 0.        , 0.        ,\n        0.        ],\n       [0.        , 0.21304624, 0.        , ..., 0.        , 0.        ,\n        0.        ],\n       [0.        , 0.        , 0.08573765, ..., 0.        , 0.        ,\n        0.        ],\n       ...,\n       [0.        , 0.        , 0.        , ..., 0.        , 0.        ,\n        0.        ],\n       [0.        , 0.        , 0.        , ..., 0.        , 0.        ,\n        0.        ],\n       [0.        , 0.        , 0.        , ..., 0.        , 0.        ,\n        0.        ]])"
     },
     "execution_count": 36,
     "metadata": {},
     "output_type": "execute_result"
    }
   ],
   "source": [
    "from sklearn.feature_extraction.text import TfidfVectorizer\n",
    "\n",
    "#Build a TF-IDF Vectorizer model\n",
    "vectorizer = TfidfVectorizer(tokenizer=customtokenize)\n",
    "\n",
    "#Transform feature input to TF-IDF\n",
    "tfidf=vectorizer.fit_transform(spam_messages)\n",
    "#Convert TF-IDF to numpy array\n",
    "tfidf_array = tfidf.toarray()\n",
    "tfidf_array"
   ],
   "metadata": {
    "collapsed": false,
    "ExecuteTime": {
     "end_time": "2024-02-28T07:30:46.727470Z",
     "start_time": "2024-02-28T07:30:43.684260Z"
    }
   },
   "id": "2809b4ced9d216f5",
   "execution_count": 36
  },
  {
   "cell_type": "code",
   "outputs": [],
   "source": [
    "# Build a label encoder for target variable to convert strings to numeric values.\n",
    "from sklearn import preprocessing\n",
    "label_encoder = preprocessing.LabelEncoder()\n",
    "spam_classes = label_encoder.fit_transform(\n",
    "    spam_classes_raw)"
   ],
   "metadata": {
    "collapsed": false,
    "ExecuteTime": {
     "end_time": "2024-02-28T07:30:46.730689Z",
     "start_time": "2024-02-28T07:30:46.727470Z"
    }
   },
   "id": "200c1366c6d021ac",
   "execution_count": 37
  },
  {
   "cell_type": "code",
   "outputs": [],
   "source": [
    "#Convert target to one-hot encoding vector\n",
    "spam_classes = tf.keras.utils.to_categorical(spam_classes,2)"
   ],
   "metadata": {
    "collapsed": false,
    "ExecuteTime": {
     "end_time": "2024-02-28T12:12:33.447295Z",
     "start_time": "2024-02-28T12:12:33.444239Z"
    }
   },
   "id": "e739e44f0acc6b4e",
   "execution_count": 51
  },
  {
   "cell_type": "code",
   "outputs": [
    {
     "data": {
      "text/plain": "(1500, 4566)"
     },
     "execution_count": 39,
     "metadata": {},
     "output_type": "execute_result"
    }
   ],
   "source": [
    "tfidf.shape"
   ],
   "metadata": {
    "collapsed": false,
    "ExecuteTime": {
     "end_time": "2024-02-28T07:30:46.738551Z",
     "start_time": "2024-02-28T07:30:46.734766Z"
    }
   },
   "id": "c4023be02a13f2ba",
   "execution_count": 39
  },
  {
   "cell_type": "code",
   "outputs": [
    {
     "data": {
      "text/plain": "(1500, 2)"
     },
     "execution_count": 40,
     "metadata": {},
     "output_type": "execute_result"
    }
   ],
   "source": [
    "spam_classes.shape"
   ],
   "metadata": {
    "collapsed": false,
    "ExecuteTime": {
     "end_time": "2024-02-28T07:30:46.742405Z",
     "start_time": "2024-02-28T07:30:46.739560Z"
    }
   },
   "id": "ab0afd51f9f7bc5a",
   "execution_count": 40
  },
  {
   "cell_type": "code",
   "outputs": [],
   "source": [
    "X_train,X_test,Y_train,Y_test = train_test_split( tfidf_array, spam_classes, test_size=0.10)"
   ],
   "metadata": {
    "collapsed": false,
    "ExecuteTime": {
     "end_time": "2024-02-28T07:30:46.761788Z",
     "start_time": "2024-02-28T07:30:46.742405Z"
    }
   },
   "id": "82be7b64f3309271",
   "execution_count": 41
  },
  {
   "cell_type": "markdown",
   "source": [
    "# 2.3 Building and Evaluating the Model"
   ],
   "metadata": {
    "collapsed": false
   },
   "id": "854ac887fd720770"
  },
  {
   "cell_type": "code",
   "outputs": [
    {
     "name": "stdout",
     "output_type": "stream",
     "text": [
      "Model: \"sequential_1\"\n",
      "_________________________________________________________________\n",
      " Layer (type)                Output Shape              Param #   \n",
      "=================================================================\n",
      " Hidden-Layer-1 (Dense)      (None, 32)                146144    \n",
      "                                                                 \n",
      " Hidden-Layer-2 (Dense)      (None, 32)                1056      \n",
      "                                                                 \n",
      " Output-Layer (Dense)        (None, 2)                 66        \n",
      "                                                                 \n",
      "=================================================================\n",
      "Total params: 147266 (575.26 KB)\n",
      "Trainable params: 147266 (575.26 KB)\n",
      "Non-trainable params: 0 (0.00 Byte)\n",
      "_________________________________________________________________\n"
     ]
    }
   ],
   "source": [
    "from tensorflow import keras\n",
    "from tensorflow.keras import optimizers\n",
    "from tensorflow.keras.regularizers import l2\n",
    "\n",
    "# Setup Hyper Parameters for building the model\n",
    "NB_CLASSES = 2 # target classes\n",
    "N_HIDDEN = 32 # hidden nodes\n",
    "\n",
    "model = tf.keras.models.Sequential()\n",
    "\n",
    "model.add(tf.keras.layers.Dense(N_HIDDEN, \n",
    "                                input_shape=(X_train.shape[1],),\n",
    "                                name='Hidden-Layer-1',\n",
    "                                activation='relu'))\n",
    "\n",
    "model.add(tf.keras.layers.Dense(N_HIDDEN,\n",
    "                                name='Hidden-Layer-2',\n",
    "                                activation='relu'))\n",
    "\n",
    "model.add(tf.keras.layers.Dense(NB_CLASSES,\n",
    "                                name='Output-Layer',\n",
    "                                activation='softmax'))\n",
    "model.compile(loss='categorical_crossentropy', metrics=['accuracy'])\n",
    "\n",
    "model.summary()"
   ],
   "metadata": {
    "collapsed": false,
    "ExecuteTime": {
     "end_time": "2024-02-28T07:30:46.792993Z",
     "start_time": "2024-02-28T07:30:46.762797Z"
    }
   },
   "id": "408a62a80cefa8dd",
   "execution_count": 42
  },
  {
   "cell_type": "markdown",
   "source": [
    "## Training"
   ],
   "metadata": {
    "collapsed": false
   },
   "id": "b342553020146f93"
  },
  {
   "cell_type": "code",
   "outputs": [
    {
     "name": "stdout",
     "output_type": "stream",
     "text": [
      "\n",
      "Training Progress:\n",
      "-----------------------------------------\n",
      "Epoch 1/10\n",
      "5/5 [==============================] - 0s 27ms/step - loss: 0.6896 - accuracy: 0.5611 - val_loss: 0.6793 - val_accuracy: 0.8037\n",
      "Epoch 2/10\n",
      "5/5 [==============================] - 0s 7ms/step - loss: 0.6673 - accuracy: 0.8815 - val_loss: 0.6519 - val_accuracy: 0.8296\n",
      "Epoch 3/10\n",
      "5/5 [==============================] - 0s 7ms/step - loss: 0.6301 - accuracy: 0.9269 - val_loss: 0.6151 - val_accuracy: 0.9370\n",
      "Epoch 4/10\n",
      "5/5 [==============================] - 0s 7ms/step - loss: 0.5829 - accuracy: 0.9657 - val_loss: 0.5721 - val_accuracy: 0.9481\n",
      "Epoch 5/10\n",
      "5/5 [==============================] - 0s 7ms/step - loss: 0.5303 - accuracy: 0.9731 - val_loss: 0.5282 - val_accuracy: 0.9481\n",
      "Epoch 6/10\n",
      "5/5 [==============================] - 0s 7ms/step - loss: 0.4759 - accuracy: 0.9778 - val_loss: 0.4830 - val_accuracy: 0.9556\n",
      "Epoch 7/10\n",
      "5/5 [==============================] - 0s 7ms/step - loss: 0.4211 - accuracy: 0.9815 - val_loss: 0.4371 - val_accuracy: 0.9556\n",
      "Epoch 8/10\n",
      "5/5 [==============================] - 0s 7ms/step - loss: 0.3665 - accuracy: 0.9843 - val_loss: 0.3941 - val_accuracy: 0.9593\n",
      "Epoch 9/10\n",
      "5/5 [==============================] - 0s 7ms/step - loss: 0.3159 - accuracy: 0.9843 - val_loss: 0.3559 - val_accuracy: 0.9630\n",
      "Epoch 10/10\n",
      "5/5 [==============================] - 0s 7ms/step - loss: 0.2708 - accuracy: 0.9861 - val_loss: 0.3204 - val_accuracy: 0.9630\n",
      "\n",
      "Accuracy during training:\n",
      "----------------------------------\n"
     ]
    },
    {
     "data": {
      "text/plain": "<Figure size 800x500 with 1 Axes>",
      "image/png": "[encoded data removed]"
     },
     "metadata": {},
     "output_type": "display_data"
    },
    {
     "name": "stdout",
     "output_type": "stream",
     "text": [
      "\n",
      "Evaluating against Test Dataset:\n",
      "-------------------------------\n",
      "5/5 [==============================] - 0s 1ms/step - loss: 0.3143 - accuracy: 0.9467\n"
     ]
    },
    {
     "data": {
      "text/plain": "[0.3142964839935303, 0.9466666579246521]"
     },
     "execution_count": 43,
     "metadata": {},
     "output_type": "execute_result"
    }
   ],
   "source": [
    "#Make it verbose so we can see the progress\n",
    "VERBOSE = 1\n",
    "\n",
    "#Setup Hyper Parameters for training\n",
    "BATCH_SIZE = 256\n",
    "EPOCHS = 10\n",
    "VALIDATION_SPLIT = 0.2\n",
    "\n",
    "print(\"\\nTraining Progress:\\n-----------------------------------------\")\n",
    "history = model.fit(X_train, \n",
    "                    Y_train,\n",
    "                    batch_size=BATCH_SIZE,\n",
    "                    epochs=EPOCHS,\n",
    "                    verbose=VERBOSE,\n",
    "                    validation_split=VALIDATION_SPLIT)\n",
    "\n",
    "print(\"\\nAccuracy during training:\\n----------------------------------\")\n",
    "import matplotlib.pyplot as plt\n",
    "pd.DataFrame(history.history)['accuracy'].plot(figsize=(8, 5))\n",
    "plt.title(\"Accuracy improvements with Epoch\")\n",
    "plt.show()\n",
    "\n",
    "print(\"\\nEvaluating against Test Dataset:\\n-------------------------------\")\n",
    "model.evaluate(X_test, Y_test)"
   ],
   "metadata": {
    "collapsed": false,
    "ExecuteTime": {
     "end_time": "2024-02-28T07:30:47.562169Z",
     "start_time": "2024-02-28T07:30:46.793998Z"
    }
   },
   "id": "9bba467a34eab6f9",
   "execution_count": 43
  },
  {
   "cell_type": "markdown",
   "source": [
    "# 2.4 Predicting for Text"
   ],
   "metadata": {
    "collapsed": false
   },
   "id": "7a2f176819e4607"
  },
  {
   "cell_type": "code",
   "outputs": [
    {
     "name": "stdout",
     "output_type": "stream",
     "text": [
      "(1, 4566)\n",
      "1/1 [==============================] - 0s 13ms/step\n",
      "Prediction Output: [0]\n",
      "Prediction Classes are  ['ham']\n"
     ]
    }
   ],
   "source": [
    "#Predict for multiple samples using batch processing\n",
    "\n",
    "#Convert input into IF-IDF vector using the same vectorizer model\n",
    "predict_tfidf=vectorizer.transform([\"FREE entry to a fun contest\",\n",
    "                                    \"Yup I will come over\"]).toarray()\n",
    "\n",
    "print(predict_tfidf.shape)\n",
    "\n",
    "#Predict using model\n",
    "prediction=np.argmax( model.predict(predict_tfidf), axis=1 )\n",
    "print(\"Prediction Output:\" , prediction)\n",
    "\n",
    "#Print prediction classes\n",
    "print(\"Prediction Classes are \", label_encoder.inverse_transform(prediction))"
   ],
   "metadata": {
    "collapsed": false,
    "ExecuteTime": {
     "end_time": "2024-02-28T08:38:21.334953Z",
     "start_time": "2024-02-28T08:38:21.286886Z"
    }
   },
   "id": "b72834545253071",
   "execution_count": 49
  },
  {
   "cell_type": "code",
   "outputs": [],
   "source": [],
   "metadata": {
    "collapsed": false
   },
   "id": "a6240d4966f04748"
  }
 ],
 "metadata": {
  "kernelspec": {
   "display_name": "Python 3",
   "language": "python",
   "name": "python3"
  },
  "language_info": {
   "codemirror_mode": {
    "name": "ipython",
    "version": 2
   },
   "file_extension": ".py",
   "mimetype": "text/x-python",
   "name": "python",
   "nbconvert_exporter": "python",
   "pygments_lexer": "ipython2",
   "version": "2.7.6"
  }
 },
 "nbformat": 4,
 "nbformat_minor": 5
}
