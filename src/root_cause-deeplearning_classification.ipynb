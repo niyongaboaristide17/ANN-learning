{
 "cells": [
  {
   "cell_type": "code",
   "execution_count": 130,
   "id": "initial_id",
   "metadata": {
    "collapsed": true,
    "ExecuteTime": {
     "end_time": "2024-02-28T12:43:23.844498Z",
     "start_time": "2024-02-28T12:43:18.844346Z"
    }
   },
   "outputs": [
    {
     "name": "stdout",
     "output_type": "stream",
     "text": [
      "Requirement already satisfied: pandas in d:\\learning\\ai\\ann-learning\\venv\\lib\\site-packages (2.2.1)\n",
      "Requirement already satisfied: numpy<2,>=1.23.2 in d:\\learning\\ai\\ann-learning\\venv\\lib\\site-packages (from pandas) (1.26.4)\n",
      "Requirement already satisfied: python-dateutil>=2.8.2 in d:\\learning\\ai\\ann-learning\\venv\\lib\\site-packages (from pandas) (2.8.2)\n",
      "Requirement already satisfied: pytz>=2020.1 in d:\\learning\\ai\\ann-learning\\venv\\lib\\site-packages (from pandas) (2024.1)\n",
      "Requirement already satisfied: tzdata>=2022.7 in d:\\learning\\ai\\ann-learning\\venv\\lib\\site-packages (from pandas) (2024.1)\n",
      "Requirement already satisfied: six>=1.5 in d:\\learning\\ai\\ann-learning\\venv\\lib\\site-packages (from python-dateutil>=2.8.2->pandas) (1.16.0)\n"
     ]
    },
    {
     "name": "stderr",
     "output_type": "stream",
     "text": [
      "\n",
      "[notice] A new release of pip is available: 23.2.1 -> 24.0\n",
      "[notice] To update, run: python.exe -m pip install --upgrade pip\n"
     ]
    },
    {
     "name": "stdout",
     "output_type": "stream",
     "text": [
      "Requirement already satisfied: tensorflow in d:\\learning\\ai\\ann-learning\\venv\\lib\\site-packages (2.15.0)\n",
      "Requirement already satisfied: tensorflow-intel==2.15.0 in d:\\learning\\ai\\ann-learning\\venv\\lib\\site-packages (from tensorflow) (2.15.0)\n",
      "Requirement already satisfied: absl-py>=1.0.0 in d:\\learning\\ai\\ann-learning\\venv\\lib\\site-packages (from tensorflow-intel==2.15.0->tensorflow) (2.1.0)\n",
      "Requirement already satisfied: astunparse>=1.6.0 in d:\\learning\\ai\\ann-learning\\venv\\lib\\site-packages (from tensorflow-intel==2.15.0->tensorflow) (1.6.3)\n",
      "Requirement already satisfied: flatbuffers>=23.5.26 in d:\\learning\\ai\\ann-learning\\venv\\lib\\site-packages (from tensorflow-intel==2.15.0->tensorflow) (23.5.26)\n",
      "Requirement already satisfied: gast!=0.5.0,!=0.5.1,!=0.5.2,>=0.2.1 in d:\\learning\\ai\\ann-learning\\venv\\lib\\site-packages (from tensorflow-intel==2.15.0->tensorflow) (0.5.4)\n",
      "Requirement already satisfied: google-pasta>=0.1.1 in d:\\learning\\ai\\ann-learning\\venv\\lib\\site-packages (from tensorflow-intel==2.15.0->tensorflow) (0.2.0)\n",
      "Requirement already satisfied: h5py>=2.9.0 in d:\\learning\\ai\\ann-learning\\venv\\lib\\site-packages (from tensorflow-intel==2.15.0->tensorflow) (3.10.0)\n",
      "Requirement already satisfied: libclang>=13.0.0 in d:\\learning\\ai\\ann-learning\\venv\\lib\\site-packages (from tensorflow-intel==2.15.0->tensorflow) (16.0.6)\n",
      "Requirement already satisfied: ml-dtypes~=0.2.0 in d:\\learning\\ai\\ann-learning\\venv\\lib\\site-packages (from tensorflow-intel==2.15.0->tensorflow) (0.2.0)\n",
      "Requirement already satisfied: numpy<2.0.0,>=1.23.5 in d:\\learning\\ai\\ann-learning\\venv\\lib\\site-packages (from tensorflow-intel==2.15.0->tensorflow) (1.26.4)\n",
      "Requirement already satisfied: opt-einsum>=2.3.2 in d:\\learning\\ai\\ann-learning\\venv\\lib\\site-packages (from tensorflow-intel==2.15.0->tensorflow) (3.3.0)\n",
      "Requirement already satisfied: packaging in d:\\learning\\ai\\ann-learning\\venv\\lib\\site-packages (from tensorflow-intel==2.15.0->tensorflow) (23.2)\n",
      "Requirement already satisfied: protobuf!=4.21.0,!=4.21.1,!=4.21.2,!=4.21.3,!=4.21.4,!=4.21.5,<5.0.0dev,>=3.20.3 in d:\\learning\\ai\\ann-learning\\venv\\lib\\site-packages (from tensorflow-intel==2.15.0->tensorflow) (4.25.3)\n",
      "Requirement already satisfied: setuptools in d:\\learning\\ai\\ann-learning\\venv\\lib\\site-packages (from tensorflow-intel==2.15.0->tensorflow) (68.2.0)\n",
      "Requirement already satisfied: six>=1.12.0 in d:\\learning\\ai\\ann-learning\\venv\\lib\\site-packages (from tensorflow-intel==2.15.0->tensorflow) (1.16.0)\n",
      "Requirement already satisfied: termcolor>=1.1.0 in d:\\learning\\ai\\ann-learning\\venv\\lib\\site-packages (from tensorflow-intel==2.15.0->tensorflow) (2.4.0)\n",
      "Requirement already satisfied: typing-extensions>=3.6.6 in d:\\learning\\ai\\ann-learning\\venv\\lib\\site-packages (from tensorflow-intel==2.15.0->tensorflow) (4.10.0)\n",
      "Requirement already satisfied: wrapt<1.15,>=1.11.0 in d:\\learning\\ai\\ann-learning\\venv\\lib\\site-packages (from tensorflow-intel==2.15.0->tensorflow) (1.14.1)\n",
      "Requirement already satisfied: tensorflow-io-gcs-filesystem>=0.23.1 in d:\\learning\\ai\\ann-learning\\venv\\lib\\site-packages (from tensorflow-intel==2.15.0->tensorflow) (0.31.0)\n",
      "Requirement already satisfied: grpcio<2.0,>=1.24.3 in d:\\learning\\ai\\ann-learning\\venv\\lib\\site-packages (from tensorflow-intel==2.15.0->tensorflow) (1.62.0)\n",
      "Requirement already satisfied: tensorboard<2.16,>=2.15 in d:\\learning\\ai\\ann-learning\\venv\\lib\\site-packages (from tensorflow-intel==2.15.0->tensorflow) (2.15.2)\n",
      "Requirement already satisfied: tensorflow-estimator<2.16,>=2.15.0 in d:\\learning\\ai\\ann-learning\\venv\\lib\\site-packages (from tensorflow-intel==2.15.0->tensorflow) (2.15.0)\n",
      "Requirement already satisfied: keras<2.16,>=2.15.0 in d:\\learning\\ai\\ann-learning\\venv\\lib\\site-packages (from tensorflow-intel==2.15.0->tensorflow) (2.15.0)\n",
      "Requirement already satisfied: wheel<1.0,>=0.23.0 in d:\\learning\\ai\\ann-learning\\venv\\lib\\site-packages (from astunparse>=1.6.0->tensorflow-intel==2.15.0->tensorflow) (0.41.2)\n",
      "Requirement already satisfied: google-auth<3,>=1.6.3 in d:\\learning\\ai\\ann-learning\\venv\\lib\\site-packages (from tensorboard<2.16,>=2.15->tensorflow-intel==2.15.0->tensorflow) (2.28.1)\n",
      "Requirement already satisfied: google-auth-oauthlib<2,>=0.5 in d:\\learning\\ai\\ann-learning\\venv\\lib\\site-packages (from tensorboard<2.16,>=2.15->tensorflow-intel==2.15.0->tensorflow) (1.2.0)\n",
      "Requirement already satisfied: markdown>=2.6.8 in d:\\learning\\ai\\ann-learning\\venv\\lib\\site-packages (from tensorboard<2.16,>=2.15->tensorflow-intel==2.15.0->tensorflow) (3.5.2)\n",
      "Requirement already satisfied: requests<3,>=2.21.0 in d:\\learning\\ai\\ann-learning\\venv\\lib\\site-packages (from tensorboard<2.16,>=2.15->tensorflow-intel==2.15.0->tensorflow) (2.31.0)\n",
      "Requirement already satisfied: tensorboard-data-server<0.8.0,>=0.7.0 in d:\\learning\\ai\\ann-learning\\venv\\lib\\site-packages (from tensorboard<2.16,>=2.15->tensorflow-intel==2.15.0->tensorflow) (0.7.2)\n",
      "Requirement already satisfied: werkzeug>=1.0.1 in d:\\learning\\ai\\ann-learning\\venv\\lib\\site-packages (from tensorboard<2.16,>=2.15->tensorflow-intel==2.15.0->tensorflow) (3.0.1)\n",
      "Requirement already satisfied: cachetools<6.0,>=2.0.0 in d:\\learning\\ai\\ann-learning\\venv\\lib\\site-packages (from google-auth<3,>=1.6.3->tensorboard<2.16,>=2.15->tensorflow-intel==2.15.0->tensorflow) (5.3.3)\n",
      "Requirement already satisfied: pyasn1-modules>=0.2.1 in d:\\learning\\ai\\ann-learning\\venv\\lib\\site-packages (from google-auth<3,>=1.6.3->tensorboard<2.16,>=2.15->tensorflow-intel==2.15.0->tensorflow) (0.3.0)\n",
      "Requirement already satisfied: rsa<5,>=3.1.4 in d:\\learning\\ai\\ann-learning\\venv\\lib\\site-packages (from google-auth<3,>=1.6.3->tensorboard<2.16,>=2.15->tensorflow-intel==2.15.0->tensorflow) (4.9)\n",
      "Requirement already satisfied: requests-oauthlib>=0.7.0 in d:\\learning\\ai\\ann-learning\\venv\\lib\\site-packages (from google-auth-oauthlib<2,>=0.5->tensorboard<2.16,>=2.15->tensorflow-intel==2.15.0->tensorflow) (1.3.1)\n",
      "Requirement already satisfied: charset-normalizer<4,>=2 in d:\\learning\\ai\\ann-learning\\venv\\lib\\site-packages (from requests<3,>=2.21.0->tensorboard<2.16,>=2.15->tensorflow-intel==2.15.0->tensorflow) (3.3.2)\n",
      "Requirement already satisfied: idna<4,>=2.5 in d:\\learning\\ai\\ann-learning\\venv\\lib\\site-packages (from requests<3,>=2.21.0->tensorboard<2.16,>=2.15->tensorflow-intel==2.15.0->tensorflow) (3.6)\n",
      "Requirement already satisfied: urllib3<3,>=1.21.1 in d:\\learning\\ai\\ann-learning\\venv\\lib\\site-packages (from requests<3,>=2.21.0->tensorboard<2.16,>=2.15->tensorflow-intel==2.15.0->tensorflow) (2.2.1)\n",
      "Requirement already satisfied: certifi>=2017.4.17 in d:\\learning\\ai\\ann-learning\\venv\\lib\\site-packages (from requests<3,>=2.21.0->tensorboard<2.16,>=2.15->tensorflow-intel==2.15.0->tensorflow) (2024.2.2)\n",
      "Requirement already satisfied: MarkupSafe>=2.1.1 in d:\\learning\\ai\\ann-learning\\venv\\lib\\site-packages (from werkzeug>=1.0.1->tensorboard<2.16,>=2.15->tensorflow-intel==2.15.0->tensorflow) (2.1.5)\n",
      "Requirement already satisfied: pyasn1<0.6.0,>=0.4.6 in d:\\learning\\ai\\ann-learning\\venv\\lib\\site-packages (from pyasn1-modules>=0.2.1->google-auth<3,>=1.6.3->tensorboard<2.16,>=2.15->tensorflow-intel==2.15.0->tensorflow) (0.5.1)\n",
      "Requirement already satisfied: oauthlib>=3.0.0 in d:\\learning\\ai\\ann-learning\\venv\\lib\\site-packages (from requests-oauthlib>=0.7.0->google-auth-oauthlib<2,>=0.5->tensorboard<2.16,>=2.15->tensorflow-intel==2.15.0->tensorflow) (3.2.2)\n"
     ]
    },
    {
     "name": "stderr",
     "output_type": "stream",
     "text": [
      "\n",
      "[notice] A new release of pip is available: 23.2.1 -> 24.0\n",
      "[notice] To update, run: python.exe -m pip install --upgrade pip\n"
     ]
    },
    {
     "name": "stdout",
     "output_type": "stream",
     "text": [
      "Collecting sklearn\n",
      "  Using cached sklearn-0.0.post12.tar.gz (2.6 kB)\n",
      "  Preparing metadata (setup.py): started\n",
      "  Preparing metadata (setup.py): finished with status 'error'\n"
     ]
    },
    {
     "name": "stderr",
     "output_type": "stream",
     "text": [
      "  error: subprocess-exited-with-error\n",
      "  \n",
      "  python setup.py egg_info did not run successfully.\n",
      "  exit code: 1\n",
      "  \n",
      "  [15 lines of output]\n",
      "  The 'sklearn' PyPI package is deprecated, use 'scikit-learn'\n",
      "  rather than 'sklearn' for pip commands.\n",
      "  \n",
      "  Here is how to fix this error in the main use cases:\n",
      "  - use 'pip install scikit-learn' rather than 'pip install sklearn'\n",
      "  - replace 'sklearn' by 'scikit-learn' in your pip requirements files\n",
      "    (requirements.txt, setup.py, setup.cfg, Pipfile, etc ...)\n",
      "  - if the 'sklearn' package is used by one of your dependencies,\n",
      "    it would be great if you take some time to track which package uses\n",
      "    'sklearn' instead of 'scikit-learn' and report it to their issue tracker\n",
      "  - as a last resort, set the environment variable\n",
      "    SKLEARN_ALLOW_DEPRECATED_SKLEARN_PACKAGE_INSTALL=True to avoid this error\n",
      "  \n",
      "  More information is available at\n",
      "  https://github.com/scikit-learn/sklearn-pypi-package\n",
      "  [end of output]\n",
      "  \n",
      "  note: This error originates from a subprocess, and is likely not a problem with pip.\n",
      "error: metadata-generation-failed\n",
      "\n",
      "Encountered error while generating package metadata.\n",
      "\n",
      "See above for output.\n",
      "\n",
      "note: This is an issue with the package mentioned above, not pip.\n",
      "hint: See above for details.\n",
      "\n",
      "[notice] A new release of pip is available: 23.2.1 -> 24.0\n",
      "[notice] To update, run: python.exe -m pip install --upgrade pip\n"
     ]
    },
    {
     "name": "stdout",
     "output_type": "stream",
     "text": [
      "Requirement already satisfied: matplotlib in d:\\learning\\ai\\ann-learning\\venv\\lib\\site-packages (3.8.3)\n",
      "Requirement already satisfied: contourpy>=1.0.1 in d:\\learning\\ai\\ann-learning\\venv\\lib\\site-packages (from matplotlib) (1.2.0)\n",
      "Requirement already satisfied: cycler>=0.10 in d:\\learning\\ai\\ann-learning\\venv\\lib\\site-packages (from matplotlib) (0.12.1)\n",
      "Requirement already satisfied: fonttools>=4.22.0 in d:\\learning\\ai\\ann-learning\\venv\\lib\\site-packages (from matplotlib) (4.49.0)\n",
      "Requirement already satisfied: kiwisolver>=1.3.1 in d:\\learning\\ai\\ann-learning\\venv\\lib\\site-packages (from matplotlib) (1.4.5)\n",
      "Requirement already satisfied: numpy<2,>=1.21 in d:\\learning\\ai\\ann-learning\\venv\\lib\\site-packages (from matplotlib) (1.26.4)\n",
      "Requirement already satisfied: packaging>=20.0 in d:\\learning\\ai\\ann-learning\\venv\\lib\\site-packages (from matplotlib) (23.2)\n",
      "Requirement already satisfied: pillow>=8 in d:\\learning\\ai\\ann-learning\\venv\\lib\\site-packages (from matplotlib) (10.2.0)\n",
      "Requirement already satisfied: pyparsing>=2.3.1 in d:\\learning\\ai\\ann-learning\\venv\\lib\\site-packages (from matplotlib) (3.1.1)\n",
      "Requirement already satisfied: python-dateutil>=2.7 in d:\\learning\\ai\\ann-learning\\venv\\lib\\site-packages (from matplotlib) (2.8.2)\n",
      "Requirement already satisfied: six>=1.5 in d:\\learning\\ai\\ann-learning\\venv\\lib\\site-packages (from python-dateutil>=2.7->matplotlib) (1.16.0)\n"
     ]
    },
    {
     "name": "stderr",
     "output_type": "stream",
     "text": [
      "\n",
      "[notice] A new release of pip is available: 23.2.1 -> 24.0\n",
      "[notice] To update, run: python.exe -m pip install --upgrade pip\n"
     ]
    }
   ],
   "source": [
    "!pip install pandas\n",
    "!pip install tensorflow\n",
    "!pip install sklearn\n",
    "!pip install matplotlib"
   ]
  },
  {
   "cell_type": "markdown",
   "source": [
    "# Preprocessing"
   ],
   "metadata": {
    "collapsed": false
   },
   "id": "1aaddc1a73576518"
  },
  {
   "cell_type": "code",
   "outputs": [],
   "source": [
    "import pandas as pd\n",
    "import numpy as np\n",
    "import matplotlib.pyplot as plt\n",
    "import tensorflow as tf"
   ],
   "metadata": {
    "collapsed": false,
    "ExecuteTime": {
     "end_time": "2024-02-28T12:43:23.847743Z",
     "start_time": "2024-02-28T12:43:23.845003Z"
    }
   },
   "id": "38cc54969491eb75",
   "execution_count": 131
  },
  {
   "cell_type": "markdown",
   "source": [
    "# Load the dataset"
   ],
   "metadata": {
    "collapsed": false
   },
   "id": "7f5e68b7dcee4da1"
  },
  {
   "cell_type": "code",
   "outputs": [
    {
     "data": {
      "text/plain": "   ID  CPU_LOAD  MEMORY_LEAK_LOAD  DELAY  ERROR_1000  ERROR_1001  ERROR_1002  \\\n0   1         0                 0      0           0           1           0   \n1   2         0                 0      0           0           0           0   \n2   3         0                 1      1           0           0           1   \n3   4         0                 1      0           1           1           0   \n4   5         1                 1      0           1           0           1   \n\n   ERROR_1003     ROOT_CAUSE  \n0           1    MEMORY_LEAK  \n1           1    MEMORY_LEAK  \n2           1    MEMORY_LEAK  \n3           1    MEMORY_LEAK  \n4           0  NETWORK_DELAY  ",
      "text/html": "<div>\n<style scoped>\n    .dataframe tbody tr th:only-of-type {\n        vertical-align: middle;\n    }\n\n    .dataframe tbody tr th {\n        vertical-align: top;\n    }\n\n    .dataframe thead th {\n        text-align: right;\n    }\n</style>\n<table border=\"1\" class=\"dataframe\">\n  <thead>\n    <tr style=\"text-align: right;\">\n      <th></th>\n      <th>ID</th>\n      <th>CPU_LOAD</th>\n      <th>MEMORY_LEAK_LOAD</th>\n      <th>DELAY</th>\n      <th>ERROR_1000</th>\n      <th>ERROR_1001</th>\n      <th>ERROR_1002</th>\n      <th>ERROR_1003</th>\n      <th>ROOT_CAUSE</th>\n    </tr>\n  </thead>\n  <tbody>\n    <tr>\n      <th>0</th>\n      <td>1</td>\n      <td>0</td>\n      <td>0</td>\n      <td>0</td>\n      <td>0</td>\n      <td>1</td>\n      <td>0</td>\n      <td>1</td>\n      <td>MEMORY_LEAK</td>\n    </tr>\n    <tr>\n      <th>1</th>\n      <td>2</td>\n      <td>0</td>\n      <td>0</td>\n      <td>0</td>\n      <td>0</td>\n      <td>0</td>\n      <td>0</td>\n      <td>1</td>\n      <td>MEMORY_LEAK</td>\n    </tr>\n    <tr>\n      <th>2</th>\n      <td>3</td>\n      <td>0</td>\n      <td>1</td>\n      <td>1</td>\n      <td>0</td>\n      <td>0</td>\n      <td>1</td>\n      <td>1</td>\n      <td>MEMORY_LEAK</td>\n    </tr>\n    <tr>\n      <th>3</th>\n      <td>4</td>\n      <td>0</td>\n      <td>1</td>\n      <td>0</td>\n      <td>1</td>\n      <td>1</td>\n      <td>0</td>\n      <td>1</td>\n      <td>MEMORY_LEAK</td>\n    </tr>\n    <tr>\n      <th>4</th>\n      <td>5</td>\n      <td>1</td>\n      <td>1</td>\n      <td>0</td>\n      <td>1</td>\n      <td>0</td>\n      <td>1</td>\n      <td>0</td>\n      <td>NETWORK_DELAY</td>\n    </tr>\n  </tbody>\n</table>\n</div>"
     },
     "execution_count": 132,
     "metadata": {},
     "output_type": "execute_result"
    }
   ],
   "source": [
    "incidents_data = pd.read_csv('datasets/root_cause_analysis.csv')\n",
    "incidents_data.head()"
   ],
   "metadata": {
    "collapsed": false,
    "ExecuteTime": {
     "end_time": "2024-02-28T12:43:23.855100Z",
     "start_time": "2024-02-28T12:43:23.847743Z"
    }
   },
   "id": "3f7383fae7fb1278",
   "execution_count": 132
  },
  {
   "cell_type": "markdown",
   "source": [
    "# Prepare Input Data for Deep Learning"
   ],
   "metadata": {
    "collapsed": false
   },
   "id": "30e001f1e33efb64"
  },
  {
   "cell_type": "code",
   "outputs": [
    {
     "data": {
      "text/plain": "   ID  CPU_LOAD  MEMORY_LEAK_LOAD  DELAY  ERROR_1000  ERROR_1001  ERROR_1002  \\\n0   1         0                 0      0           0           1           0   \n1   2         0                 0      0           0           0           0   \n2   3         0                 1      1           0           0           1   \n3   4         0                 1      0           1           1           0   \n4   5         1                 1      0           1           0           1   \n\n   ERROR_1003  ROOT_CAUSE  \n0           1           1  \n1           1           1  \n2           1           1  \n3           1           1  \n4           0           2  ",
      "text/html": "<div>\n<style scoped>\n    .dataframe tbody tr th:only-of-type {\n        vertical-align: middle;\n    }\n\n    .dataframe tbody tr th {\n        vertical-align: top;\n    }\n\n    .dataframe thead th {\n        text-align: right;\n    }\n</style>\n<table border=\"1\" class=\"dataframe\">\n  <thead>\n    <tr style=\"text-align: right;\">\n      <th></th>\n      <th>ID</th>\n      <th>CPU_LOAD</th>\n      <th>MEMORY_LEAK_LOAD</th>\n      <th>DELAY</th>\n      <th>ERROR_1000</th>\n      <th>ERROR_1001</th>\n      <th>ERROR_1002</th>\n      <th>ERROR_1003</th>\n      <th>ROOT_CAUSE</th>\n    </tr>\n  </thead>\n  <tbody>\n    <tr>\n      <th>0</th>\n      <td>1</td>\n      <td>0</td>\n      <td>0</td>\n      <td>0</td>\n      <td>0</td>\n      <td>1</td>\n      <td>0</td>\n      <td>1</td>\n      <td>1</td>\n    </tr>\n    <tr>\n      <th>1</th>\n      <td>2</td>\n      <td>0</td>\n      <td>0</td>\n      <td>0</td>\n      <td>0</td>\n      <td>0</td>\n      <td>0</td>\n      <td>1</td>\n      <td>1</td>\n    </tr>\n    <tr>\n      <th>2</th>\n      <td>3</td>\n      <td>0</td>\n      <td>1</td>\n      <td>1</td>\n      <td>0</td>\n      <td>0</td>\n      <td>1</td>\n      <td>1</td>\n      <td>1</td>\n    </tr>\n    <tr>\n      <th>3</th>\n      <td>4</td>\n      <td>0</td>\n      <td>1</td>\n      <td>0</td>\n      <td>1</td>\n      <td>1</td>\n      <td>0</td>\n      <td>1</td>\n      <td>1</td>\n    </tr>\n    <tr>\n      <th>4</th>\n      <td>5</td>\n      <td>1</td>\n      <td>1</td>\n      <td>0</td>\n      <td>1</td>\n      <td>0</td>\n      <td>1</td>\n      <td>0</td>\n      <td>2</td>\n    </tr>\n  </tbody>\n</table>\n</div>"
     },
     "execution_count": 133,
     "metadata": {},
     "output_type": "execute_result"
    }
   ],
   "source": [
    "from sklearn.preprocessing import StandardScaler\n",
    "from sklearn.model_selection import train_test_split\n",
    "from sklearn import preprocessing\n",
    "\n",
    "label_encoder = preprocessing.LabelEncoder()\n",
    "incidents_data['ROOT_CAUSE'] = label_encoder.fit_transform(incidents_data['ROOT_CAUSE'])\n",
    "\n",
    "incidents_data.head()"
   ],
   "metadata": {
    "collapsed": false,
    "ExecuteTime": {
     "end_time": "2024-02-28T12:43:23.862078Z",
     "start_time": "2024-02-28T12:43:23.856105Z"
    }
   },
   "id": "2d94023f692a8084",
   "execution_count": 133
  },
  {
   "cell_type": "code",
   "outputs": [
    {
     "data": {
      "text/plain": "array([[   1.,    0.,    0., ...,    0.,    1.,    1.],\n       [   2.,    0.,    0., ...,    0.,    1.,    1.],\n       [   3.,    0.,    1., ...,    1.,    1.,    1.],\n       ...,\n       [ 998.,    1.,    1., ...,    0.,    0.,    1.],\n       [ 999.,    0.,    1., ...,    0.,    0.,    2.],\n       [1000.,    1.,    0., ...,    1.,    0.,    0.]])"
     },
     "execution_count": 134,
     "metadata": {},
     "output_type": "execute_result"
    }
   ],
   "source": [
    "np_incidents = incidents_data.to_numpy().astype(float)\n",
    "np_incidents"
   ],
   "metadata": {
    "collapsed": false,
    "ExecuteTime": {
     "end_time": "2024-02-28T12:43:23.866285Z",
     "start_time": "2024-02-28T12:43:23.862078Z"
    }
   },
   "id": "a6ff286beb7ff35e",
   "execution_count": 134
  },
  {
   "cell_type": "code",
   "outputs": [],
   "source": [
    "X_data = np_incidents[:,1:-1]"
   ],
   "metadata": {
    "collapsed": false,
    "ExecuteTime": {
     "end_time": "2024-02-28T12:43:23.869335Z",
     "start_time": "2024-02-28T12:43:23.866285Z"
    }
   },
   "id": "d77fe400c4fec478",
   "execution_count": 135
  },
  {
   "cell_type": "code",
   "outputs": [
    {
     "data": {
      "text/plain": "array([[0., 0., 0., ..., 1., 0., 1.],\n       [0., 0., 0., ..., 0., 0., 1.],\n       [0., 1., 1., ..., 0., 1., 1.],\n       ...,\n       [1., 1., 1., ..., 0., 0., 0.],\n       [0., 1., 1., ..., 1., 0., 0.],\n       [1., 0., 0., ..., 1., 1., 0.]])"
     },
     "execution_count": 136,
     "metadata": {},
     "output_type": "execute_result"
    }
   ],
   "source": [
    "X_data"
   ],
   "metadata": {
    "collapsed": false,
    "ExecuteTime": {
     "end_time": "2024-02-28T12:43:23.873006Z",
     "start_time": "2024-02-28T12:43:23.869335Z"
    }
   },
   "id": "22c5f250c8911db3",
   "execution_count": 136
  },
  {
   "cell_type": "code",
   "outputs": [],
   "source": [
    "Y_data = np_incidents[:, -1]"
   ],
   "metadata": {
    "collapsed": false,
    "ExecuteTime": {
     "end_time": "2024-02-28T12:43:23.875762Z",
     "start_time": "2024-02-28T12:43:23.873006Z"
    }
   },
   "id": "f2407099cff037cb",
   "execution_count": 137
  },
  {
   "cell_type": "code",
   "outputs": [
    {
     "data": {
      "text/plain": "array([1., 1., 1., 1., 2., 2., 2., 0., 1., 2., 1., 0., 1., 0., 2., 1., 1.,\n       1., 2., 1., 2., 1., 1., 1., 2., 1., 1., 2., 2., 1., 0., 1., 1., 2.,\n       1., 0., 1., 0., 0., 2., 2., 0., 1., 0., 2., 2., 2., 0., 2., 0., 1.,\n       0., 0., 0., 2., 1., 2., 1., 0., 0., 2., 1., 0., 1., 2., 1., 0., 0.,\n       1., 2., 1., 0., 1., 0., 2., 1., 2., 2., 2., 2., 2., 1., 2., 1., 2.,\n       2., 0., 1., 1., 0., 1., 1., 1., 1., 1., 2., 0., 1., 1., 1., 1., 1.,\n       2., 0., 1., 2., 2., 0., 0., 1., 2., 2., 2., 0., 0., 0., 1., 1., 1.,\n       2., 1., 0., 2., 0., 0., 2., 2., 2., 1., 0., 2., 1., 0., 0., 0., 0.,\n       0., 2., 1., 1., 2., 0., 0., 1., 0., 2., 1., 2., 0., 2., 2., 1., 0.,\n       2., 0., 0., 0., 2., 2., 1., 2., 2., 2., 0., 2., 2., 1., 0., 1., 1.,\n       0., 1., 2., 1., 1., 0., 1., 1., 1., 0., 2., 1., 0., 0., 1., 0., 1.,\n       2., 0., 1., 1., 1., 2., 1., 2., 0., 0., 0., 0., 1., 0., 2., 1., 1.,\n       0., 2., 0., 1., 1., 0., 0., 0., 2., 0., 0., 0., 1., 2., 0., 1., 0.,\n       0., 2., 1., 2., 2., 0., 1., 0., 2., 2., 2., 0., 0., 2., 2., 2., 1.,\n       1., 1., 2., 0., 2., 0., 2., 0., 2., 1., 0., 1., 2., 1., 2., 2., 1.,\n       2., 0., 0., 2., 2., 1., 1., 0., 0., 0., 1., 0., 2., 2., 1., 0., 2.,\n       2., 0., 0., 0., 2., 2., 0., 2., 1., 2., 0., 0., 2., 0., 2., 2., 2.,\n       0., 0., 0., 0., 1., 1., 0., 2., 1., 2., 0., 1., 1., 1., 1., 2., 2.,\n       2., 0., 1., 2., 1., 0., 1., 0., 2., 1., 1., 1., 2., 1., 2., 1., 1.,\n       1., 2., 1., 1., 2., 2., 1., 0., 1., 1., 2., 1., 0., 1., 0., 0., 2.,\n       2., 0., 1., 0., 2., 2., 2., 0., 2., 0., 1., 0., 0., 0., 2., 1., 2.,\n       1., 0., 0., 2., 1., 0., 1., 2., 1., 0., 0., 1., 2., 1., 0., 1., 0.,\n       2., 1., 2., 2., 2., 2., 2., 1., 2., 1., 2., 2., 0., 1., 1., 0., 1.,\n       1., 1., 1., 1., 2., 0., 1., 1., 1., 1., 1., 2., 0., 1., 2., 2., 0.,\n       0., 1., 2., 2., 2., 0., 0., 0., 1., 1., 1., 2., 1., 0., 2., 0., 0.,\n       2., 2., 2., 1., 0., 2., 1., 0., 0., 0., 0., 0., 2., 1., 1., 2., 0.,\n       0., 1., 0., 2., 1., 2., 0., 2., 2., 1., 0., 2., 0., 0., 0., 2., 2.,\n       1., 2., 2., 2., 0., 2., 2., 1., 0., 1., 1., 0., 1., 2., 1., 1., 0.,\n       1., 1., 1., 0., 2., 1., 0., 0., 1., 0., 1., 2., 0., 1., 1., 1., 2.,\n       1., 2., 0., 0., 0., 0., 1., 0., 2., 1., 1., 0., 2., 0., 1., 1., 0.,\n       0., 0., 2., 0., 0., 0., 1., 2., 0., 1., 0., 0., 2., 1., 2., 2., 0.,\n       1., 0., 2., 2., 2., 0., 0., 2., 2., 2., 1., 1., 1., 2., 0., 2., 0.,\n       2., 0., 2., 1., 0., 1., 2., 1., 2., 2., 1., 2., 0., 0., 2., 2., 1.,\n       1., 0., 0., 0., 1., 0., 2., 2., 1., 0., 2., 2., 0., 0., 0., 2., 2.,\n       0., 2., 1., 2., 0., 0., 2., 0., 2., 2., 2., 0., 0., 0., 0., 1., 1.,\n       0., 2., 1., 2., 0., 1., 1., 1., 1., 2., 2., 2., 0., 1., 2., 1., 0.,\n       1., 0., 2., 1., 1., 1., 2., 1., 2., 1., 1., 1., 2., 1., 1., 2., 2.,\n       1., 0., 1., 1., 2., 1., 0., 1., 0., 0., 2., 2., 0., 1., 0., 2., 2.,\n       2., 0., 2., 0., 1., 0., 0., 0., 2., 1., 2., 1., 0., 0., 2., 1., 0.,\n       1., 2., 1., 0., 0., 1., 2., 1., 0., 1., 0., 2., 1., 2., 2., 2., 2.,\n       2., 1., 2., 1., 2., 2., 0., 1., 1., 0., 1., 1., 1., 1., 1., 2., 0.,\n       1., 1., 1., 1., 1., 2., 0., 1., 2., 2., 0., 0., 1., 2., 2., 2., 0.,\n       0., 0., 1., 1., 1., 2., 1., 0., 2., 0., 0., 2., 2., 2., 1., 0., 2.,\n       1., 0., 0., 0., 0., 0., 2., 1., 1., 2., 0., 0., 1., 0., 2., 1., 2.,\n       0., 2., 2., 1., 0., 2., 0., 0., 0., 2., 2., 1., 2., 2., 2., 0., 2.,\n       2., 1., 0., 1., 1., 0., 1., 2., 1., 1., 0., 1., 1., 1., 0., 2., 1.,\n       0., 0., 1., 0., 1., 2., 0., 1., 1., 1., 2., 1., 2., 0., 0., 0., 0.,\n       1., 0., 2., 1., 1., 0., 2., 0., 1., 1., 0., 0., 0., 2., 0., 0., 0.,\n       1., 2., 0., 1., 0., 0., 2., 1., 2., 2., 0., 1., 0., 2., 2., 2., 0.,\n       0., 2., 2., 2., 1., 1., 1., 2., 0., 2., 0., 2., 0., 2., 1., 0., 1.,\n       2., 1., 2., 2., 1., 2., 0., 0., 2., 2., 1., 1., 0., 0., 0., 1., 0.,\n       2., 2., 1., 0., 2., 2., 0., 0., 0., 2., 2., 0., 2., 1., 2., 0., 0.,\n       2., 0., 2., 2., 2., 0., 0., 0., 0., 1., 1., 0., 2., 1., 2., 0., 0.,\n       2., 1., 1., 0., 2., 0., 1., 1., 0., 0., 0., 2., 0., 0., 0., 1., 2.,\n       0., 1., 0., 0., 2., 1., 2., 2., 0., 1., 0., 2., 2., 2., 0., 0., 2.,\n       2., 2., 1., 1., 1., 2., 0., 2., 0., 2., 0., 2., 1., 0., 1., 2., 1.,\n       2., 2., 1., 2., 0., 0., 2., 2., 1., 1., 0., 0., 0., 1., 0., 2., 2.,\n       1., 0., 2., 2., 0., 0., 0., 2., 2., 0., 2., 1., 2., 0., 0., 2., 0.,\n       2., 2., 2., 0., 0., 0., 0., 1., 1., 0., 2., 1., 2., 0.])"
     },
     "execution_count": 138,
     "metadata": {},
     "output_type": "execute_result"
    }
   ],
   "source": [
    "Y_data"
   ],
   "metadata": {
    "collapsed": false,
    "ExecuteTime": {
     "end_time": "2024-02-28T12:43:23.882025Z",
     "start_time": "2024-02-28T12:43:23.875762Z"
    }
   },
   "id": "1b5964593a5cb0f0",
   "execution_count": 138
  },
  {
   "cell_type": "code",
   "outputs": [],
   "source": [
    "scaler = StandardScaler().fit(X_data)\n",
    "X_data = scaler.transform(X_data)"
   ],
   "metadata": {
    "collapsed": false,
    "ExecuteTime": {
     "end_time": "2024-02-28T12:43:23.886084Z",
     "start_time": "2024-02-28T12:43:23.883030Z"
    }
   },
   "id": "e087f7705a19d779",
   "execution_count": 139
  },
  {
   "cell_type": "code",
   "outputs": [
    {
     "data": {
      "text/plain": "array([[-0.94548368, -0.84747452, -0.80632811, ...,  1.03046381,\n        -0.87210285,  1.27462619],\n       [-0.94548368, -0.84747452, -0.80632811, ..., -0.97043679,\n        -0.87210285,  1.27462619],\n       [-0.94548368,  1.17997648,  1.24018993, ..., -0.97043679,\n         1.14665375,  1.27462619],\n       ...,\n       [ 1.05765971,  1.17997648,  1.24018993, ..., -0.97043679,\n        -0.87210285, -0.78454374],\n       [-0.94548368,  1.17997648,  1.24018993, ...,  1.03046381,\n        -0.87210285, -0.78454374],\n       [ 1.05765971, -0.84747452, -0.80632811, ...,  1.03046381,\n         1.14665375, -0.78454374]])"
     },
     "execution_count": 140,
     "metadata": {},
     "output_type": "execute_result"
    }
   ],
   "source": [
    "X_data"
   ],
   "metadata": {
    "collapsed": false,
    "ExecuteTime": {
     "end_time": "2024-02-28T12:43:23.890032Z",
     "start_time": "2024-02-28T12:43:23.886084Z"
    }
   },
   "id": "49b1496796d8d497",
   "execution_count": 140
  },
  {
   "cell_type": "code",
   "outputs": [
    {
     "name": "stdout",
     "output_type": "stream",
     "text": [
      "3 7\n"
     ]
    }
   ],
   "source": [
    "NB_CLASSES = len(np.unique(Y_data))\n",
    "NB_FEATURES = X_data.shape[1]\n",
    "print(NB_CLASSES, NB_FEATURES)"
   ],
   "metadata": {
    "collapsed": false,
    "ExecuteTime": {
     "end_time": "2024-02-28T12:43:23.893229Z",
     "start_time": "2024-02-28T12:43:23.890032Z"
    }
   },
   "id": "18eb5b705e1ea479",
   "execution_count": 141
  },
  {
   "cell_type": "code",
   "outputs": [],
   "source": [
    "Y_data = tf.keras.utils.to_categorical(Y_data,NB_CLASSES)"
   ],
   "metadata": {
    "collapsed": false,
    "ExecuteTime": {
     "end_time": "2024-02-28T12:43:23.895963Z",
     "start_time": "2024-02-28T12:43:23.893229Z"
    }
   },
   "id": "475a15cddfdebef0",
   "execution_count": 142
  },
  {
   "cell_type": "code",
   "outputs": [
    {
     "data": {
      "text/plain": "array([[0., 1., 0.],\n       [0., 1., 0.],\n       [0., 1., 0.],\n       ...,\n       [0., 1., 0.],\n       [0., 0., 1.],\n       [1., 0., 0.]], dtype=float32)"
     },
     "execution_count": 143,
     "metadata": {},
     "output_type": "execute_result"
    }
   ],
   "source": [
    "Y_data"
   ],
   "metadata": {
    "collapsed": false,
    "ExecuteTime": {
     "end_time": "2024-02-28T12:43:23.899702Z",
     "start_time": "2024-02-28T12:43:23.895963Z"
    }
   },
   "id": "cda8c48615365103",
   "execution_count": 143
  },
  {
   "cell_type": "code",
   "outputs": [],
   "source": [
    "#Split training and test data\n",
    "X_train,X_test,Y_train,Y_test = train_test_split( X_data, Y_data, test_size=0.10)"
   ],
   "metadata": {
    "collapsed": false,
    "ExecuteTime": {
     "end_time": "2024-02-28T12:43:23.902872Z",
     "start_time": "2024-02-28T12:43:23.899702Z"
    }
   },
   "id": "abb23970d3255bc",
   "execution_count": 144
  },
  {
   "cell_type": "code",
   "outputs": [
    {
     "name": "stdout",
     "output_type": "stream",
     "text": [
      "(900, 7) (900, 3) (100, 7) (100, 3)\n"
     ]
    }
   ],
   "source": [
    "print(X_train.shape, Y_train.shape, X_test.shape, Y_test.shape)"
   ],
   "metadata": {
    "collapsed": false,
    "ExecuteTime": {
     "end_time": "2024-02-28T12:43:23.905873Z",
     "start_time": "2024-02-28T12:43:23.902872Z"
    }
   },
   "id": "a9c37a8a7593f4fc",
   "execution_count": 145
  },
  {
   "cell_type": "code",
   "outputs": [
    {
     "name": "stdout",
     "output_type": "stream",
     "text": [
      "Model: \"sequential_9\"\n",
      "_________________________________________________________________\n",
      " Layer (type)                Output Shape              Param #   \n",
      "=================================================================\n",
      " Dense-Layer-1 (Dense)       (None, 128)               1024      \n",
      "                                                                 \n",
      " Dense-Layer-2 (Dense)       (None, 128)               16512     \n",
      "                                                                 \n",
      " Final (Dense)               (None, 3)                 387       \n",
      "                                                                 \n",
      "=================================================================\n",
      "Total params: 17923 (70.01 KB)\n",
      "Trainable params: 17923 (70.01 KB)\n",
      "Non-trainable params: 0 (0.00 Byte)\n",
      "_________________________________________________________________\n"
     ]
    }
   ],
   "source": [
    "from tensorflow import keras\n",
    "from tensorflow.keras import optimizers\n",
    "from tensorflow.keras.regularizers import l2\n",
    "\n",
    "EPOCHS = 20\n",
    "BATCH_SIZE = 64\n",
    "VERBOSE = 1\n",
    "\n",
    "OUTPUT_CLASSES = len(label_encoder.classes_)\n",
    "N_HIDDEN = 128\n",
    "VALIDATION_SPLIT = 0.2\n",
    "\n",
    "#Create a Keras sequential model\n",
    "model = tf.keras.models.Sequential()\n",
    "\n",
    "# Add a Dense Layer\n",
    "model.add(keras.layers.Dense(N_HIDDEN, input_shape=(NB_FEATURES,), name='Dense-Layer-1', activation='relu'))\n",
    "\n",
    "# Add a second Dense Layer\n",
    "model.add(keras.layers.Dense(N_HIDDEN, name='Dense-Layer-2', activation='relu'))\n",
    "\n",
    "# Add a softmax layer for categorical prediction\n",
    "model.add(keras.layers.Dense(OUTPUT_CLASSES, name='Final', activation='softmax'))\n",
    "\n",
    "# Compile the model\n",
    "model.compile(\n",
    "    loss='categorical_crossentropy',\n",
    "    metrics=['accuracy']\n",
    ")\n",
    "\n",
    "model.summary()"
   ],
   "metadata": {
    "collapsed": false,
    "ExecuteTime": {
     "end_time": "2024-02-28T12:43:23.934222Z",
     "start_time": "2024-02-28T12:43:23.905873Z"
    }
   },
   "id": "677b80ea30395907",
   "execution_count": 146
  },
  {
   "cell_type": "code",
   "outputs": [
    {
     "name": "stdout",
     "output_type": "stream",
     "text": [
      "Epoch 1/20\n",
      "12/12 [==============================] - 0s 10ms/step - loss: 0.8045 - accuracy: 0.7222 - val_loss: 0.5960 - val_accuracy: 0.8000\n",
      "Epoch 2/20\n",
      "12/12 [==============================] - 0s 3ms/step - loss: 0.5206 - accuracy: 0.8139 - val_loss: 0.5134 - val_accuracy: 0.8222\n",
      "Epoch 3/20\n",
      "12/12 [==============================] - 0s 3ms/step - loss: 0.4678 - accuracy: 0.8222 - val_loss: 0.4679 - val_accuracy: 0.8278\n",
      "Epoch 4/20\n",
      "12/12 [==============================] - 0s 3ms/step - loss: 0.4408 - accuracy: 0.8417 - val_loss: 0.4507 - val_accuracy: 0.8333\n",
      "Epoch 5/20\n",
      "12/12 [==============================] - 0s 3ms/step - loss: 0.4225 - accuracy: 0.8444 - val_loss: 0.4332 - val_accuracy: 0.8333\n",
      "Epoch 6/20\n",
      "12/12 [==============================] - 0s 3ms/step - loss: 0.4111 - accuracy: 0.8444 - val_loss: 0.4351 - val_accuracy: 0.8389\n",
      "Epoch 7/20\n",
      "12/12 [==============================] - 0s 3ms/step - loss: 0.4014 - accuracy: 0.8500 - val_loss: 0.4083 - val_accuracy: 0.8389\n",
      "Epoch 8/20\n",
      "12/12 [==============================] - 0s 3ms/step - loss: 0.3951 - accuracy: 0.8472 - val_loss: 0.4154 - val_accuracy: 0.8167\n",
      "Epoch 9/20\n",
      "12/12 [==============================] - 0s 3ms/step - loss: 0.3852 - accuracy: 0.8528 - val_loss: 0.4089 - val_accuracy: 0.8167\n",
      "Epoch 10/20\n",
      "12/12 [==============================] - 0s 3ms/step - loss: 0.3764 - accuracy: 0.8528 - val_loss: 0.3967 - val_accuracy: 0.8389\n",
      "Epoch 11/20\n",
      "12/12 [==============================] - 0s 3ms/step - loss: 0.3704 - accuracy: 0.8556 - val_loss: 0.3989 - val_accuracy: 0.8444\n",
      "Epoch 12/20\n",
      "12/12 [==============================] - 0s 3ms/step - loss: 0.3683 - accuracy: 0.8403 - val_loss: 0.4059 - val_accuracy: 0.8444\n",
      "Epoch 13/20\n",
      "12/12 [==============================] - 0s 3ms/step - loss: 0.3619 - accuracy: 0.8569 - val_loss: 0.4005 - val_accuracy: 0.8222\n",
      "Epoch 14/20\n",
      "12/12 [==============================] - 0s 3ms/step - loss: 0.3528 - accuracy: 0.8542 - val_loss: 0.3788 - val_accuracy: 0.8389\n",
      "Epoch 15/20\n",
      "12/12 [==============================] - 0s 3ms/step - loss: 0.3501 - accuracy: 0.8625 - val_loss: 0.3902 - val_accuracy: 0.8444\n",
      "Epoch 16/20\n",
      "12/12 [==============================] - 0s 3ms/step - loss: 0.3458 - accuracy: 0.8514 - val_loss: 0.3882 - val_accuracy: 0.8278\n",
      "Epoch 17/20\n",
      "12/12 [==============================] - 0s 3ms/step - loss: 0.3413 - accuracy: 0.8583 - val_loss: 0.3873 - val_accuracy: 0.8167\n",
      "Epoch 18/20\n",
      "12/12 [==============================] - 0s 3ms/step - loss: 0.3404 - accuracy: 0.8611 - val_loss: 0.3686 - val_accuracy: 0.8389\n",
      "Epoch 19/20\n",
      "12/12 [==============================] - 0s 3ms/step - loss: 0.3359 - accuracy: 0.8583 - val_loss: 0.3717 - val_accuracy: 0.8111\n",
      "Epoch 20/20\n",
      "12/12 [==============================] - 0s 3ms/step - loss: 0.3344 - accuracy: 0.8500 - val_loss: 0.3733 - val_accuracy: 0.8444\n",
      "\n",
      "Evaluation against Test Dataset :\n",
      "------------------------------------\n",
      "4/4 [==============================] - 0s 1ms/step - loss: 0.4117 - accuracy: 0.8700\n"
     ]
    },
    {
     "data": {
      "text/plain": "[0.4116809368133545, 0.8700000047683716]"
     },
     "execution_count": 147,
     "metadata": {},
     "output_type": "execute_result"
    }
   ],
   "source": [
    "#Build the model\n",
    "model.fit(X_train,\n",
    "          Y_train,\n",
    "          batch_size=BATCH_SIZE,\n",
    "          epochs=EPOCHS,\n",
    "          verbose=VERBOSE,\n",
    "          validation_split=VALIDATION_SPLIT)\n",
    "\n",
    "\n",
    "#Evaluate the model against the test dataset and print results\n",
    "print(\"\\nEvaluation against Test Dataset :\\n------------------------------------\")\n",
    "model.evaluate(X_test,Y_test)"
   ],
   "metadata": {
    "collapsed": false,
    "ExecuteTime": {
     "end_time": "2024-02-28T12:44:37.366014Z",
     "start_time": "2024-02-28T12:44:36.281754Z"
    }
   },
   "id": "17dffbb67f94f480",
   "execution_count": 147
  },
  {
   "cell_type": "markdown",
   "source": [
    "# PREDICT"
   ],
   "metadata": {
    "collapsed": false
   },
   "id": "89610c565f1da23b"
  },
  {
   "cell_type": "code",
   "outputs": [
    {
     "name": "stdout",
     "output_type": "stream",
     "text": [
      "1/1 [==============================] - 0s 388ms/step\n",
      "['DATABASE_ISSUE']\n"
     ]
    }
   ],
   "source": [
    "#Pass individual flags to Predict the root cause\n",
    "import numpy as np\n",
    "\n",
    "CPU_LOAD=1\n",
    "MEMORY_LOAD=0\n",
    "DELAY=0\n",
    "ERROR_1000=0\n",
    "ERROR_1001=1\n",
    "ERROR_1002=1\n",
    "ERROR_1003=0\n",
    "\n",
    "prediction=np.argmax(model.predict(\n",
    "    [[CPU_LOAD,MEMORY_LOAD,DELAY,\n",
    "      ERROR_1000,ERROR_1001,ERROR_1002,ERROR_1003]]), axis=1 )\n",
    "\n",
    "print(label_encoder.inverse_transform(prediction))"
   ],
   "metadata": {
    "collapsed": false,
    "ExecuteTime": {
     "end_time": "2024-02-28T12:46:09.047554Z",
     "start_time": "2024-02-28T12:46:08.629268Z"
    }
   },
   "id": "a42b14d465ff792d",
   "execution_count": 148
  },
  {
   "cell_type": "code",
   "outputs": [
    {
     "name": "stdout",
     "output_type": "stream",
     "text": [
      "1/1 [==============================] - 0s 39ms/step\n",
      "['DATABASE_ISSUE' 'NETWORK_DELAY' 'MEMORY_LEAK' 'DATABASE_ISSUE'\n",
      " 'DATABASE_ISSUE']\n"
     ]
    }
   ],
   "source": [
    "#Predicting as a Batch\n",
    "print(label_encoder.inverse_transform(np.argmax(\n",
    "    model.predict([[1,0,0,0,1,1,0],\n",
    "                   [0,1,1,1,0,0,0],\n",
    "                   [1,1,0,1,1,0,1],\n",
    "                   [0,0,0,0,0,1,0],\n",
    "                   [1,0,1,0,1,1,1]]), axis=1 )))"
   ],
   "metadata": {
    "collapsed": false,
    "ExecuteTime": {
     "end_time": "2024-02-28T12:46:26.298331Z",
     "start_time": "2024-02-28T12:46:26.215454Z"
    }
   },
   "id": "97bf4c7d0b8f98d2",
   "execution_count": 149
  },
  {
   "cell_type": "code",
   "outputs": [],
   "source": [],
   "metadata": {
    "collapsed": false
   },
   "id": "3ceaa12934aa0330"
  }
 ],
 "metadata": {
  "kernelspec": {
   "display_name": "Python 3",
   "language": "python",
   "name": "python3"
  },
  "language_info": {
   "codemirror_mode": {
    "name": "ipython",
    "version": 2
   },
   "file_extension": ".py",
   "mimetype": "text/x-python",
   "name": "python",
   "nbconvert_exporter": "python",
   "pygments_lexer": "ipython2",
   "version": "2.7.6"
  }
 },
 "nbformat": 4,
 "nbformat_minor": 5
}
